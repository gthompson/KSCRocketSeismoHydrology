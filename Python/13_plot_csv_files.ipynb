{
 "cells": [
  {
   "cell_type": "code",
   "execution_count": 2,
   "id": "2b380a8f-6812-4bd6-9410-ca74aeb9cb47",
   "metadata": {},
   "outputs": [],
   "source": [
    "import header\n",
    "paths = header.setup_environment()\n",
    "import os\n",
    "#import sys\n",
    "#import glob\n",
    "#import numpy as np\n",
    "import matplotlib.pyplot as plt\n",
    "import pandas as pd\n",
    "#from obspy.core import read, Stream, UTCDateTime\n",
    "from obspy.core import UTCDateTime\n",
    "#import FDSNtools\n",
    "#import wrappers\n",
    "#import SDS\n",
    "import libWellData as LLE\n",
    "import matplotlib\n",
    "matplotlib.use( 'tkagg' )\n",
    "%matplotlib inline\n",
    "\n",
    "# Parse lookuptable\n",
    "lookuptableDF = LLE.removed_unnamed_columns(pd.read_csv(paths['lookuptable']))\n",
    "lookuptableDF.to_csv('lookuptable_backup.csv')\n",
    "lookuptableDF = lookuptableDF.sort_values(by=['starttime'])\n",
    "lookuptableDF['miniseed'] = False\n",
    "print(paths)\n",
    "\n",
    "transducersDF = LLE.removed_unnamed_columns(pd.read_csv(paths['transducersCSVfile']))\n",
    "MSEED_DIR = os.path.join(paths['outdir'], 'miniseed')\n",
    "#os.system(f\"rm -rf {MSEED_DIR}/*\")\n",
    "for index, row in lookuptableDF.iterrows():\n",
    "    print(f\"{index}, {row['sourcefile']}, {row['passed']}\")    \n",
    "    df = LLE.removed_unnamed_columns(pd.read_csv(os.path.join(paths['CORRECTED'],row['outputfile'])))\n",
    "    df['datetime'] = [UTCDateTime(ts).datetime for ts in df['TIMESTAMP']]\n",
    "    print(len(df))\n",
    "    #print(df['datetime'])\n",
    "    \n",
    "    print(df.columns)\n",
    "    if '1226423' in df.columns:\n",
    "        fig, axs = plt.subplots(1, 1)\n",
    "        df.plot(x='datetime', y='1226423', ax = axs)\n",
    "        fig.show()\n",
    "    #i = input('<ENTER> to continue')\n",
    "    #successful = LLE.convert2mseed(df2, MSEED_DIR, transducersDF)"
   ]
  },
  {
   "cell_type": "code",
   "execution_count": null,
   "id": "b46645ca-4eee-4c3b-b6c0-3d462c5bce38",
   "metadata": {},
   "outputs": [],
   "source": []
  }
 ],
 "metadata": {
  "kernelspec": {
   "display_name": "Python 3 (ipykernel)",
   "language": "python",
   "name": "python3"
  },
  "language_info": {
   "codemirror_mode": {
    "name": "ipython",
    "version": 3
   },
   "file_extension": ".py",
   "mimetype": "text/x-python",
   "name": "python",
   "nbconvert_exporter": "python",
   "pygments_lexer": "ipython3",
   "version": "3.11.8"
  }
 },
 "nbformat": 4,
 "nbformat_minor": 5
}
