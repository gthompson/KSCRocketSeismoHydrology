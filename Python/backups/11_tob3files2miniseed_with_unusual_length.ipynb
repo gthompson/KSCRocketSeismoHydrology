{
 "cells": [
  {
   "cell_type": "code",
   "execution_count": 1,
   "id": "dress-rendering",
   "metadata": {},
   "outputs": [
    {
     "name": "stdout",
     "output_type": "stream",
     "text": [
      "['TIMESTAMP', 'RECORD', 'PT(1)', 'PT(2)', 'PT(3)', 'PT(4)', 'CS109']\n",
      "[['TOA5', 'HOF-IW0006I', 'CR6', '18084', 'CR6.Std.11.01', 'CPU:CR6 100hz.CR6', '15003', 'Test'], ['TIMESTAMP', 'RECORD', 'PT(1)', 'PT(2)', 'PT(3)', 'PT(4)', 'CS109'], ['TS', 'RN', '', '', '', '', ''], ['', '', 'Smp', 'Smp', 'Smp', 'Smp', 'Smp']]\n",
      "['TIMESTAMP', 'RECORD', 'PT(1)', 'PT(2)', 'PT(3)', 'PT(4)', 'CS109']\n",
      "Index(['TIMESTAMP', 'RECORD', 'PT(1)', 'PT(2)', 'PT(3)', 'PT(4)', 'CS109'], dtype='object')\n",
      "                      TIMESTAMP    RECORD     PT(1)     PT(2)      PT(3)  \\\n",
      "0        2022-04-08 08:00:00.01  77115681  14.72682  1.079374   1.026047   \n",
      "1        2022-04-08 08:00:00.02  77115682  14.72147  1.126209   1.012032   \n",
      "2        2022-04-08 08:00:00.03  77115683  14.71961  1.122705   1.021801   \n",
      "3        2022-04-08 08:00:00.04  77115684  14.72711  1.125685    1.07906   \n",
      "4        2022-04-08 08:00:00.05  77115685  14.72764   1.09565  0.9984589   \n",
      "...                         ...       ...       ...       ...        ...   \n",
      "1439990  2022-04-08 11:59:59.96  78555671  14.71383  1.028107  0.8230972   \n",
      "1439991  2022-04-08 11:59:59.97  78555672  14.71892  1.048498   1.005226   \n",
      "1439992  2022-04-08 11:59:59.98  78555673  14.71772   1.03467  0.9337006   \n",
      "1439993  2022-04-08 11:59:59.99  78555674  14.71729   1.06748  0.8357544   \n",
      "1439994     2022-04-08 12:00:00  78555675   14.7205   1.06349  0.9602242   \n",
      "\n",
      "             PT(4)     CS109  \n",
      "0         1.035091  25.66159  \n",
      "1         1.048431  25.65976  \n",
      "2         1.028687  25.66153  \n",
      "3         1.048416  25.66168  \n",
      "4         1.021626  25.65927  \n",
      "...            ...       ...  \n",
      "1439990  0.9903717  25.66046  \n",
      "1439991  0.9572716  25.66284  \n",
      "1439992  0.9074974  25.65826  \n",
      "1439993  0.9923134  25.66235  \n",
      "1439994   1.007832  25.65918  \n",
      "\n",
      "[1439995 rows x 7 columns]\n",
      "6I\n",
      "Writing /Users/thompsong/Dropbox/PROFESSIONAL/RESEARCH/3 Project Documents/NASAprojects/202010 KSC Launchpad Erosion/KSC_Well_Seismoacoustic_Data/WellData/miniseed2/20220408120000.FL.S396I.00.\n"
     ]
    },
    {
     "ename": "ContextualVersionConflict",
     "evalue": "(idna 3.3 (/Users/thompsong/.local/lib/python3.8/site-packages), Requirement.parse('idna<3,>=2.5'), {'requests'})",
     "output_type": "error",
     "traceback": [
      "\u001b[0;31m---------------------------------------------------------------------------\u001b[0m",
      "\u001b[0;31mContextualVersionConflict\u001b[0m                 Traceback (most recent call last)",
      "Input \u001b[0;32mIn [1]\u001b[0m, in \u001b[0;36m<cell line: 30>\u001b[0;34m()\u001b[0m\n\u001b[1;32m     83\u001b[0m tr\u001b[38;5;241m.\u001b[39mdata \u001b[38;5;241m=\u001b[39m np\u001b[38;5;241m.\u001b[39marray(df[this_col])\n\u001b[1;32m     84\u001b[0m \u001b[38;5;28mprint\u001b[39m(\u001b[38;5;124m'\u001b[39m\u001b[38;5;124mWriting \u001b[39m\u001b[38;5;132;01m%s\u001b[39;00m\u001b[38;5;124m'\u001b[39m \u001b[38;5;241m%\u001b[39m mseedfile)\n\u001b[0;32m---> 85\u001b[0m \u001b[43mtr\u001b[49m\u001b[38;5;241;43m.\u001b[39;49m\u001b[43mwrite\u001b[49m\u001b[43m(\u001b[49m\u001b[43mmseedfile\u001b[49m\u001b[43m,\u001b[49m\u001b[43m \u001b[49m\u001b[38;5;124;43m'\u001b[39;49m\u001b[38;5;124;43mmseed\u001b[39;49m\u001b[38;5;124;43m'\u001b[39;49m\u001b[43m)\u001b[49m\n\u001b[1;32m     86\u001b[0m thisrow \u001b[38;5;241m=\u001b[39m {\u001b[38;5;124m'\u001b[39m\u001b[38;5;124mTOB3file\u001b[39m\u001b[38;5;124m'\u001b[39m:tob3base, \u001b[38;5;124m'\u001b[39m\u001b[38;5;124mminiseedFile\u001b[39m\u001b[38;5;124m'\u001b[39m:os\u001b[38;5;241m.\u001b[39mpath\u001b[38;5;241m.\u001b[39mbasename(mseedfile)}\n\u001b[1;32m     87\u001b[0m lod\u001b[38;5;241m.\u001b[39mappend(thisrow)\n",
      "File \u001b[0;32m~/.local/lib/python3.8/site-packages/obspy/core/trace.py:999\u001b[0m, in \u001b[0;36mTrace.write\u001b[0;34m(self, filename, format, **kwargs)\u001b[0m\n\u001b[1;32m    996\u001b[0m \u001b[38;5;66;03m# we need to import here in order to prevent a circular import of\u001b[39;00m\n\u001b[1;32m    997\u001b[0m \u001b[38;5;66;03m# Stream and Trace classes\u001b[39;00m\n\u001b[1;32m    998\u001b[0m \u001b[38;5;28;01mfrom\u001b[39;00m \u001b[38;5;21;01mobspy\u001b[39;00m \u001b[38;5;28;01mimport\u001b[39;00m Stream\n\u001b[0;32m--> 999\u001b[0m \u001b[43mStream\u001b[49m\u001b[43m(\u001b[49m\u001b[43m[\u001b[49m\u001b[38;5;28;43mself\u001b[39;49m\u001b[43m]\u001b[49m\u001b[43m)\u001b[49m\u001b[38;5;241;43m.\u001b[39;49m\u001b[43mwrite\u001b[49m\u001b[43m(\u001b[49m\u001b[43mfilename\u001b[49m\u001b[43m,\u001b[49m\u001b[43m \u001b[49m\u001b[38;5;28;43mformat\u001b[39;49m\u001b[43m,\u001b[49m\u001b[43m \u001b[49m\u001b[38;5;241;43m*\u001b[39;49m\u001b[38;5;241;43m*\u001b[39;49m\u001b[43mkwargs\u001b[49m\u001b[43m)\u001b[49m\n",
      "File \u001b[0;32m~/.local/lib/python3.8/site-packages/obspy/core/stream.py:1449\u001b[0m, in \u001b[0;36mStream.write\u001b[0;34m(self, filename, format, **kwargs)\u001b[0m\n\u001b[1;32m   1447\u001b[0m     format_ep \u001b[38;5;241m=\u001b[39m ENTRY_POINTS[\u001b[38;5;124m'\u001b[39m\u001b[38;5;124mwaveform_write\u001b[39m\u001b[38;5;124m'\u001b[39m][\u001b[38;5;28mformat\u001b[39m]\n\u001b[1;32m   1448\u001b[0m     \u001b[38;5;66;03m# search writeFormat method for given entry point\u001b[39;00m\n\u001b[0;32m-> 1449\u001b[0m     write_format \u001b[38;5;241m=\u001b[39m \u001b[43mbuffered_load_entry_point\u001b[49m\u001b[43m(\u001b[49m\n\u001b[1;32m   1450\u001b[0m \u001b[43m        \u001b[49m\u001b[43mformat_ep\u001b[49m\u001b[38;5;241;43m.\u001b[39;49m\u001b[43mdist\u001b[49m\u001b[38;5;241;43m.\u001b[39;49m\u001b[43mkey\u001b[49m\u001b[43m,\u001b[49m\n\u001b[1;32m   1451\u001b[0m \u001b[43m        \u001b[49m\u001b[38;5;124;43m'\u001b[39;49m\u001b[38;5;124;43mobspy.plugin.waveform.\u001b[39;49m\u001b[38;5;132;43;01m%s\u001b[39;49;00m\u001b[38;5;124;43m'\u001b[39;49m\u001b[43m \u001b[49m\u001b[38;5;241;43m%\u001b[39;49m\u001b[43m \u001b[49m\u001b[43m(\u001b[49m\u001b[43mformat_ep\u001b[49m\u001b[38;5;241;43m.\u001b[39;49m\u001b[43mname\u001b[49m\u001b[43m)\u001b[49m\u001b[43m,\u001b[49m\u001b[43m \u001b[49m\u001b[38;5;124;43m'\u001b[39;49m\u001b[38;5;124;43mwriteFormat\u001b[39;49m\u001b[38;5;124;43m'\u001b[39;49m\u001b[43m)\u001b[49m\n\u001b[1;32m   1452\u001b[0m \u001b[38;5;28;01mexcept\u001b[39;00m (\u001b[38;5;167;01mIndexError\u001b[39;00m, \u001b[38;5;167;01mImportError\u001b[39;00m, \u001b[38;5;167;01mKeyError\u001b[39;00m):\n\u001b[1;32m   1453\u001b[0m     msg \u001b[38;5;241m=\u001b[39m \u001b[38;5;124m\"\u001b[39m\u001b[38;5;124mWriting format \u001b[39m\u001b[38;5;130;01m\\\"\u001b[39;00m\u001b[38;5;132;01m%s\u001b[39;00m\u001b[38;5;130;01m\\\"\u001b[39;00m\u001b[38;5;124m is not supported. Supported types: \u001b[39m\u001b[38;5;132;01m%s\u001b[39;00m\u001b[38;5;124m\"\u001b[39m\n",
      "File \u001b[0;32m~/.local/lib/python3.8/site-packages/obspy/core/util/misc.py:600\u001b[0m, in \u001b[0;36mbuffered_load_entry_point\u001b[0;34m(dist, group, name)\u001b[0m\n\u001b[1;32m    598\u001b[0m hash_str \u001b[38;5;241m=\u001b[39m \u001b[38;5;124m'\u001b[39m\u001b[38;5;124m/\u001b[39m\u001b[38;5;124m'\u001b[39m\u001b[38;5;241m.\u001b[39mjoin([dist, group, name])\n\u001b[1;32m    599\u001b[0m \u001b[38;5;28;01mif\u001b[39;00m hash_str \u001b[38;5;129;01mnot\u001b[39;00m \u001b[38;5;129;01min\u001b[39;00m _ENTRY_POINT_CACHE:\n\u001b[0;32m--> 600\u001b[0m     _ENTRY_POINT_CACHE[hash_str] \u001b[38;5;241m=\u001b[39m \u001b[43mload_entry_point\u001b[49m\u001b[43m(\u001b[49m\u001b[43mdist\u001b[49m\u001b[43m,\u001b[49m\u001b[43m \u001b[49m\u001b[43mgroup\u001b[49m\u001b[43m,\u001b[49m\u001b[43m \u001b[49m\u001b[43mname\u001b[49m\u001b[43m)\u001b[49m\n\u001b[1;32m    601\u001b[0m \u001b[38;5;28;01mreturn\u001b[39;00m _ENTRY_POINT_CACHE[hash_str]\n",
      "File \u001b[0;32m~/miniconda3/envs/AAA/lib/python3.8/site-packages/pkg_resources/__init__.py:488\u001b[0m, in \u001b[0;36mload_entry_point\u001b[0;34m(dist, group, name)\u001b[0m\n\u001b[1;32m    486\u001b[0m \u001b[38;5;28;01mdef\u001b[39;00m \u001b[38;5;21mload_entry_point\u001b[39m(dist, group, name):\n\u001b[1;32m    487\u001b[0m     \u001b[38;5;124;03m\"\"\"Return `name` entry point of `group` for `dist` or raise ImportError\"\"\"\u001b[39;00m\n\u001b[0;32m--> 488\u001b[0m     \u001b[38;5;28;01mreturn\u001b[39;00m \u001b[43mget_distribution\u001b[49m\u001b[43m(\u001b[49m\u001b[43mdist\u001b[49m\u001b[43m)\u001b[49m\u001b[38;5;241;43m.\u001b[39;49m\u001b[43mload_entry_point\u001b[49m\u001b[43m(\u001b[49m\u001b[43mgroup\u001b[49m\u001b[43m,\u001b[49m\u001b[43m \u001b[49m\u001b[43mname\u001b[49m\u001b[43m)\u001b[49m\n",
      "File \u001b[0;32m~/miniconda3/envs/AAA/lib/python3.8/site-packages/pkg_resources/__init__.py:2872\u001b[0m, in \u001b[0;36mDistribution.load_entry_point\u001b[0;34m(self, group, name)\u001b[0m\n\u001b[1;32m   2870\u001b[0m \u001b[38;5;28;01mif\u001b[39;00m ep \u001b[38;5;129;01mis\u001b[39;00m \u001b[38;5;28;01mNone\u001b[39;00m:\n\u001b[1;32m   2871\u001b[0m     \u001b[38;5;28;01mraise\u001b[39;00m \u001b[38;5;167;01mImportError\u001b[39;00m(\u001b[38;5;124m\"\u001b[39m\u001b[38;5;124mEntry point \u001b[39m\u001b[38;5;132;01m%r\u001b[39;00m\u001b[38;5;124m not found\u001b[39m\u001b[38;5;124m\"\u001b[39m \u001b[38;5;241m%\u001b[39m ((group, name),))\n\u001b[0;32m-> 2872\u001b[0m \u001b[38;5;28;01mreturn\u001b[39;00m \u001b[43mep\u001b[49m\u001b[38;5;241;43m.\u001b[39;49m\u001b[43mload\u001b[49m\u001b[43m(\u001b[49m\u001b[43m)\u001b[49m\n",
      "File \u001b[0;32m~/miniconda3/envs/AAA/lib/python3.8/site-packages/pkg_resources/__init__.py:2471\u001b[0m, in \u001b[0;36mEntryPoint.load\u001b[0;34m(self, require, *args, **kwargs)\u001b[0m\n\u001b[1;32m   2464\u001b[0m     warnings\u001b[38;5;241m.\u001b[39mwarn(\n\u001b[1;32m   2465\u001b[0m         \u001b[38;5;124m\"\u001b[39m\u001b[38;5;124mParameters to load are deprecated.  Call .resolve and \u001b[39m\u001b[38;5;124m\"\u001b[39m\n\u001b[1;32m   2466\u001b[0m         \u001b[38;5;124m\"\u001b[39m\u001b[38;5;124m.require separately.\u001b[39m\u001b[38;5;124m\"\u001b[39m,\n\u001b[1;32m   2467\u001b[0m         PkgResourcesDeprecationWarning,\n\u001b[1;32m   2468\u001b[0m         stacklevel\u001b[38;5;241m=\u001b[39m\u001b[38;5;241m2\u001b[39m,\n\u001b[1;32m   2469\u001b[0m     )\n\u001b[1;32m   2470\u001b[0m \u001b[38;5;28;01mif\u001b[39;00m require:\n\u001b[0;32m-> 2471\u001b[0m     \u001b[38;5;28;43mself\u001b[39;49m\u001b[38;5;241;43m.\u001b[39;49m\u001b[43mrequire\u001b[49m\u001b[43m(\u001b[49m\u001b[38;5;241;43m*\u001b[39;49m\u001b[43margs\u001b[49m\u001b[43m,\u001b[49m\u001b[43m \u001b[49m\u001b[38;5;241;43m*\u001b[39;49m\u001b[38;5;241;43m*\u001b[39;49m\u001b[43mkwargs\u001b[49m\u001b[43m)\u001b[49m\n\u001b[1;32m   2472\u001b[0m \u001b[38;5;28;01mreturn\u001b[39;00m \u001b[38;5;28mself\u001b[39m\u001b[38;5;241m.\u001b[39mresolve()\n",
      "File \u001b[0;32m~/miniconda3/envs/AAA/lib/python3.8/site-packages/pkg_resources/__init__.py:2494\u001b[0m, in \u001b[0;36mEntryPoint.require\u001b[0;34m(self, env, installer)\u001b[0m\n\u001b[1;32m   2488\u001b[0m \u001b[38;5;66;03m# Get the requirements for this entry point with all its extras and\u001b[39;00m\n\u001b[1;32m   2489\u001b[0m \u001b[38;5;66;03m# then resolve them. We have to pass `extras` along when resolving so\u001b[39;00m\n\u001b[1;32m   2490\u001b[0m \u001b[38;5;66;03m# that the working set knows what extras we want. Otherwise, for\u001b[39;00m\n\u001b[1;32m   2491\u001b[0m \u001b[38;5;66;03m# dist-info distributions, the working set will assume that the\u001b[39;00m\n\u001b[1;32m   2492\u001b[0m \u001b[38;5;66;03m# requirements for that extra are purely optional and skip over them.\u001b[39;00m\n\u001b[1;32m   2493\u001b[0m reqs \u001b[38;5;241m=\u001b[39m \u001b[38;5;28mself\u001b[39m\u001b[38;5;241m.\u001b[39mdist\u001b[38;5;241m.\u001b[39mrequires(\u001b[38;5;28mself\u001b[39m\u001b[38;5;241m.\u001b[39mextras)\n\u001b[0;32m-> 2494\u001b[0m items \u001b[38;5;241m=\u001b[39m \u001b[43mworking_set\u001b[49m\u001b[38;5;241;43m.\u001b[39;49m\u001b[43mresolve\u001b[49m\u001b[43m(\u001b[49m\u001b[43mreqs\u001b[49m\u001b[43m,\u001b[49m\u001b[43m \u001b[49m\u001b[43menv\u001b[49m\u001b[43m,\u001b[49m\u001b[43m \u001b[49m\u001b[43minstaller\u001b[49m\u001b[43m,\u001b[49m\u001b[43m \u001b[49m\u001b[43mextras\u001b[49m\u001b[38;5;241;43m=\u001b[39;49m\u001b[38;5;28;43mself\u001b[39;49m\u001b[38;5;241;43m.\u001b[39;49m\u001b[43mextras\u001b[49m\u001b[43m)\u001b[49m\n\u001b[1;32m   2495\u001b[0m \u001b[38;5;28mlist\u001b[39m(\u001b[38;5;28mmap\u001b[39m(working_set\u001b[38;5;241m.\u001b[39madd, items))\n",
      "File \u001b[0;32m~/miniconda3/envs/AAA/lib/python3.8/site-packages/pkg_resources/__init__.py:790\u001b[0m, in \u001b[0;36mWorkingSet.resolve\u001b[0;34m(self, requirements, env, installer, replace_conflicting, extras)\u001b[0m\n\u001b[1;32m    787\u001b[0m \u001b[38;5;28;01mif\u001b[39;00m dist \u001b[38;5;129;01mnot\u001b[39;00m \u001b[38;5;129;01min\u001b[39;00m req:\n\u001b[1;32m    788\u001b[0m     \u001b[38;5;66;03m# Oops, the \"best\" so far conflicts with a dependency\u001b[39;00m\n\u001b[1;32m    789\u001b[0m     dependent_req \u001b[38;5;241m=\u001b[39m required_by[req]\n\u001b[0;32m--> 790\u001b[0m     \u001b[38;5;28;01mraise\u001b[39;00m VersionConflict(dist, req)\u001b[38;5;241m.\u001b[39mwith_context(dependent_req)\n\u001b[1;32m    792\u001b[0m \u001b[38;5;66;03m# push the new requirements onto the stack\u001b[39;00m\n\u001b[1;32m    793\u001b[0m new_requirements \u001b[38;5;241m=\u001b[39m dist\u001b[38;5;241m.\u001b[39mrequires(req\u001b[38;5;241m.\u001b[39mextras)[::\u001b[38;5;241m-\u001b[39m\u001b[38;5;241m1\u001b[39m]\n",
      "\u001b[0;31mContextualVersionConflict\u001b[0m: (idna 3.3 (/Users/thompsong/.local/lib/python3.8/site-packages), Requirement.parse('idna<3,>=2.5'), {'requests'})"
     ]
    }
   ],
   "source": [
    "# raw data on April 1, 2022 from 16:10 to 16:40 UTC. Launch from SLC40 at 16:24 UTC, watched from Titusville\n",
    "import os, sys, glob, obspy\n",
    "import numpy as np\n",
    "import pandas as pd\n",
    "cwd = os.getcwd()\n",
    "sys.path.append(os.path.join(cwd, 'campbell'))\n",
    "import read_cs_files as campbell\n",
    "\n",
    "HOME = os.getenv('HOME')\n",
    "SDS_TOP = os.path.join(HOME, 'Desktop/Desktop - Glenn’s MacBook Air/KSC_new')\n",
    "DROPBOX_TOP = os.path.join(HOME, 'Dropbox')\n",
    "DROPBOX_PROJECT_DIR = os.path.join(DROPBOX_TOP, 'PROFESSIONAL/RESEARCH/3 Project Documents/NASAprojects/202010 KSC Launchpad Erosion')\n",
    "EVENT_MSEED_DIR = os.path.join(DROPBOX_PROJECT_DIR, 'KSC_Well_Seismoacoustic_Data/SeismoAcousticData/Events')\n",
    "HTML_DIR = './html'\n",
    "PLOTS_DIR = HTML_DIR\n",
    "\n",
    "WELLDATA_TOP = os.path.join(DROPBOX_PROJECT_DIR, 'KSC_Well_Seismoacoustic_Data/WellData')\n",
    "TOB3_DIR = os.path.join(WELLDATA_TOP, 'Uploads')\n",
    "WELLMSEED_DIR2 = os.path.join(WELLDATA_TOP, 'miniseed2')\n",
    "\n",
    "\n",
    "def localtime2utc(this_dt):\n",
    "    localTimeCorrection = 3600 * 4\n",
    "    return this_dt + localTimeCorrection\n",
    "\n",
    "# Read Campbell Scientific TOB3 file\n",
    "allcolumns = []\n",
    "tob3files = glob.glob(os.path.join(TOB3_DIR, '20220408/*.dat'))\n",
    "lod = []\n",
    "for tob3file in tob3files:\n",
    "    data, meta = campbell.read_cs_files(tob3file, forcedatetime=False,\n",
    "                      bycol=True, quiet=True, metaonly=False)\n",
    "    \n",
    "    \n",
    "\n",
    "    df = pd.DataFrame(columns=meta[1])\n",
    "    for c in range(len(meta[1])):\n",
    "        df[meta[1][c]] = data[c]\n",
    "        if not meta[1][c] in allcolumns:\n",
    "            allcolumns.append(meta[1][c])\n",
    "            \n",
    "    print(allcolumns)\n",
    "    print(meta)\n",
    "    print(meta[1])\n",
    "    print(df.columns)\n",
    "    print(df)\n",
    "    \n",
    "    # convert to Miniseed\n",
    "    local_startt = obspy.UTCDateTime(df.iloc[0]['TIMESTAMP'])\n",
    "    nextt = obspy.UTCDateTime(df.iloc[1]['TIMESTAMP'])\n",
    "    dt = nextt-local_startt\n",
    "    utc_startt = localtime2utc(local_startt)\n",
    "\n",
    "    tob3base = os.path.basename(tob3file)\n",
    "    if tob3base[:3]=='HOF':\n",
    "        sta = tob3base[9:11]\n",
    "    elif tob3base[:8]=='Absolute':\n",
    "        sta = 'AB'\n",
    "    elif 'TOA5_HOF-IW000' in tob3base:\n",
    "        sta = tob3base[-8:-6]\n",
    "        \n",
    "    print(sta)\n",
    "\n",
    "    \n",
    "    for this_col in df.columns[2:]:\n",
    "        tr = obspy.Trace()\n",
    "        tr.id = 'FL.S39%s.00.' % sta\n",
    "        if this_col[1]=='_' and this_col[-1]=='A':\n",
    "            tr.stats.station = 'AB6%s' % this_col[0] \n",
    "        if 'TempC' in this_col:\n",
    "            tr.stats.channel = 'HKD'\n",
    "        elif this_col=='Baro':\n",
    "            tr.stats.channel = 'HDH'\n",
    "        elif 'psi' in this_col:\n",
    "            tr.stats.channel = 'HDD'\n",
    "            if this_col[1]=='_' and this_col[-1]=='A':\n",
    "                tr.stats.location = this_col[2:4] \n",
    "            else:\n",
    "                tr.stats.location = this_col[:2]\n",
    "        tr.stats.starttime = utc_startt\n",
    "        tr.stats.delta = dt\n",
    "        mseedfile = os.path.join(WELLMSEED_DIR2, '%s.%s' % (utc_startt.strftime('%Y%m%d%H%M%S'), tr.id  ) )\n",
    "        tr.data = np.array(df[this_col])\n",
    "        print('Writing %s' % mseedfile)\n",
    "        tr.write(mseedfile, 'mseed')\n",
    "        thisrow = {'TOB3file':tob3base, 'miniseedFile':os.path.basename(mseedfile)}\n",
    "        lod.append(thisrow)\n",
    "df = pd.DataFrame(lod)\n",
    "#df.to_csv(os.path.join(WELLDATA_TOP,'lookuptable_tob3file_miniseedfile.csv'))"
   ]
  },
  {
   "cell_type": "code",
   "execution_count": 12,
   "id": "crude-spanking",
   "metadata": {},
   "outputs": [
    {
     "data": {
      "text/plain": [
       "7"
      ]
     },
     "execution_count": 12,
     "metadata": {},
     "output_type": "execute_result"
    }
   ],
   "source": [
    "len(data)"
   ]
  },
  {
   "cell_type": "code",
   "execution_count": 13,
   "id": "432d62cc",
   "metadata": {},
   "outputs": [
    {
     "data": {
      "text/plain": [
       "3.9999861111111112"
      ]
     },
     "execution_count": 13,
     "metadata": {},
     "output_type": "execute_result"
    }
   ],
   "source": [
    "1439995/100/3600"
   ]
  },
  {
   "cell_type": "code",
   "execution_count": null,
   "id": "da98c3bb",
   "metadata": {},
   "outputs": [],
   "source": []
  }
 ],
 "metadata": {
  "kernelspec": {
   "display_name": "Python 3 (ipykernel)",
   "language": "python",
   "name": "python3"
  },
  "language_info": {
   "codemirror_mode": {
    "name": "ipython",
    "version": 3
   },
   "file_extension": ".py",
   "mimetype": "text/x-python",
   "name": "python",
   "nbconvert_exporter": "python",
   "pygments_lexer": "ipython3",
   "version": "3.8.8"
  }
 },
 "nbformat": 4,
 "nbformat_minor": 5
}
