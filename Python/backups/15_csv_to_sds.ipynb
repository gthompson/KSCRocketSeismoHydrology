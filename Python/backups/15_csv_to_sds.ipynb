{
 "cells": [
  {
   "cell_type": "code",
   "execution_count": null,
   "metadata": {},
   "outputs": [],
   "source": [
    "%run header.ipynb\n",
    "print(paths)\n",
    "\n",
    "dryrun = True\n",
    "\n",
    "from IPython.display import clear_output\n",
    "sdsobj = SDS.SDSobj(paths['SDS_TOP'], sds_type='D', format='MSEED')\n",
    "\n",
    "# Parse lookuptable and convert good CSV files to SDS\n",
    "lookuptableDF = LLE.removed_unnamed_columns(pd.read_csv(paths['lookuptable']))\n",
    "lookuptableDF = lookuptableDF.sort_values(by=['starttime'])\n",
    "print(\"lookuptableDF = \\n\", lookuptableDF.columns)\n",
    "print(lookuptableDF)"
   ]
  },
  {
   "cell_type": "code",
   "execution_count": null,
   "metadata": {},
   "outputs": [],
   "source": [
    "transducersDF = LLE.removed_unnamed_columns(pd.read_csv(paths['transducersCSVfile']))\n",
    "print(\"transducersDF = \\n\",transducersDF.columns)\n",
    "\n",
    "lookuptableDF['SDS'] = False\n",
    "\n",
    "sds_column_exists = False\n",
    "if 'SDS' in lookuptableDF.columns:\n",
    "    sds_column_exists = True\n",
    "\n",
    "for index, row in lookuptableDF.iterrows():\n",
    "    print(row)\n",
    "    row_to_sds_done = False\n",
    "    if row['passed']: \n",
    "        successful = False\n",
    "        if sds_column_exists:\n",
    "            row_to_sds_done = row['SDS']\n",
    "        if not row_to_sds_done:\n",
    "            df2 = pd.read_csv(os.path.join(paths['CORRECTED'],row['outputfile']))\n",
    "            print(f\"- processing {row['outputfile']} to SDS\")\n",
    "            print(\"row = \\n \",row)\n",
    "            #print(\"sdsobj = \\n\", sdsobj)\n",
    "            if row['passed']:\n",
    "                successful = LLE.convert2sds(df2, sdsobj, transducersDF, dryrun=dryrun)\n",
    "            else:\n",
    "                try:\n",
    "                    print('SCAFFOLD: running convert2sds_badfile')\n",
    "                    successful = LLE.convert2sds_badfile(df2, sdsobj, transducersDF, dryrun=dryrun)\n",
    "                except:\n",
    "                    print('Failed to convert bad CSV file')\n",
    "            lookuptableDF.at[index,'SDS'] = successful\n",
    "            if successful and not dryrun:\n",
    "                lookuptableDF.to_csv(lookuptable)     \n",
    "    clear_output(wait=True)\n",
    "del sdsobj"
   ]
  }
 ],
 "metadata": {
  "kernelspec": {
   "display_name": "Python 3 (ipykernel)",
   "language": "python",
   "name": "python3"
  },
  "language_info": {
   "codemirror_mode": {
    "name": "ipython",
    "version": 3
   },
   "file_extension": ".py",
   "mimetype": "text/x-python",
   "name": "python",
   "nbconvert_exporter": "python",
   "pygments_lexer": "ipython3",
   "version": "3.10.13"
  }
 },
 "nbformat": 4,
 "nbformat_minor": 4
}
