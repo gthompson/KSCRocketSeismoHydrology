{
 "cells": [
  {
   "cell_type": "code",
   "execution_count": null,
   "id": "circular-wyoming",
   "metadata": {},
   "outputs": [],
   "source": [
    "# Load downloaded data - I really don't need this now I have SDS archive\n",
    "DOWNLOAD_DIR = '../SeismoAcousticData/Downloaded/20220504'\n",
    "whatisthere = glob.glob(os.path.join(DOWNLOAD_DIR, '*'))\n",
    "seedfiles = []\n",
    "for item in whatisthere:\n",
    "    if os.path.isdir(item):\n",
    "        newseedfiles = glob.glob(os.path.join(item, '*seed'))\n",
    "        if newseedfiles:\n",
    "            seedfiles.extend(newseedfiles)\n",
    "    elif os.path.isfile(item):\n",
    "        if 'seed' in item:\n",
    "            seedfiles.append(item)\n",
    "\n",
    "st = obspy.Stream()\n",
    "for seedfile in seedfiles:\n",
    "    this_st = obspy.read(seedfile)\n",
    "    this_st.merge()\n",
    "    for tr in this_st:\n",
    "        st.append(tr)\n",
    "        "
   ]
  }
 ],
 "metadata": {
  "kernelspec": {
   "display_name": "Python 3",
   "language": "python",
   "name": "python3"
  },
  "language_info": {
   "codemirror_mode": {
    "name": "ipython",
    "version": 3
   },
   "file_extension": ".py",
   "mimetype": "text/x-python",
   "name": "python",
   "nbconvert_exporter": "python",
   "pygments_lexer": "ipython3",
   "version": "3.8.8"
  }
 },
 "nbformat": 4,
 "nbformat_minor": 5
}
