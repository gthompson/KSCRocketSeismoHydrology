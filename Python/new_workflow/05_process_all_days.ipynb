{
 "cells": [
  {
   "cell_type": "code",
   "execution_count": null,
   "metadata": {},
   "outputs": [],
   "source": [
    "import os\n",
    "import pandas as pd\n",
    "import numpy as np\n",
    "import matplotlib.pyplot as plt\n",
    "import header\n",
    "paths = header.setup_environment()\n",
    "import platform\n",
    "if platform.system()=='Darwin':\n",
    "    INPUTDIR = '/Users/thompsong/Dropbox/PROFESSIONAL/RESEARCH/3_Project_Documents/NASAprojects/201602_Rocket_Seismology/DATA/2022_DATA/WellData/MERGED'\n",
    "else:\n",
    "    INPUTDIR = os.path.join(paths['new_data'], '03_merge_inventories')\n",
    "import libWellData as LLE\n",
    "transducersDF = LLE.get_transducers_dataframe(paths)\n",
    "display(transducersDF)\n",
    "\n",
    "# Load in the summary of all files - raw 4 hourly data \n",
    "dfall2 = pd.read_csv(os.path.join(INPUTDIR, 'all2.csv'))\n",
    "#display(dfall2['subdir'])\n",
    "\n",
    "LLE.qc_dataframe(dfall2)\n",
    "\n",
    "# Split in baro, 20Hz, 100Hz\n",
    "all_dataframes = LLE.split_by_subdir(dfall2, verbose=True)\n",
    "#print(all_dataframes)\n"
   ]
  },
  {
   "cell_type": "code",
   "execution_count": null,
   "metadata": {},
   "outputs": [],
   "source": [
    "startt = dfall2['datetime'].min()\n",
    "endt = dfall2['datetime'].max()\n",
    "thisdate = pd.to_datetime(f'{startt.year}-{startt.month:02d}-{startt.day:02d}')\n",
    "lod = []\n",
    "csvfile = 'dailyshifts.csv'\n",
    "if os.path.isfile(csvfile):\n",
    "    dfshifts = pd.read_csv('dailyshifts.csv', index_col=None)\n",
    "    lod = dfshifts.to_dict('records')\n",
    "    startt = pd.to_datetime(dfshifts.iloc[-1]['datetime'])+pd.Timedelta(hours=24)\n",
    "    thisdate = pd.to_datetime(f'{startt.year}-{startt.month:02d}-{startt.day:02d}')\n",
    "while thisdate < endt:\n",
    "    print(thisdate)\n",
    "\n",
    "    correctedAllSensorsPSI, dcshifts, sensor_depths = LLE.process_day(dfall2, thisdate, INPUTDIR, transducersDF)\n",
    "    print('dcshifts=',dcshifts)\n",
    "    print('sensor_depths=',sensor_depths)\n",
    "    if isinstance(correctedAllSensorsPSI, pd.DataFrame):\n",
    "        correctedAllSensorsPSI.to_pickle(f'{thisdate.strftime(\"%Y%m%d\")}.pkl')\n",
    "    if dcshifts or not sensor_depths.empty:\n",
    "        dcshifts['datetime']=thisdate.strftime(\"%Y-%m-%d\")\n",
    "        for key, value in sensor_depths.items():\n",
    "            dcshifts[key] = value\n",
    "        lod.append(dcshifts)\n",
    "\n",
    "        # could just do this once at end of loop - but good to see it build each day\n",
    "        dfshifts = pd.DataFrame(lod)\n",
    "        dfshifts.to_csv(csvfile, index=None)\n",
    "        display(dfshifts)\n",
    "\n",
    "    thisdate = thisdate + pd.Timedelta(hours=24)\n",
    "\n"
   ]
  }
 ],
 "metadata": {
  "kernelspec": {
   "display_name": "passoft3",
   "language": "python",
   "name": "python3"
  },
  "language_info": {
   "codemirror_mode": {
    "name": "ipython",
    "version": 3
   },
   "file_extension": ".py",
   "mimetype": "text/x-python",
   "name": "python",
   "nbconvert_exporter": "python",
   "pygments_lexer": "ipython3",
   "version": "3.10.15"
  }
 },
 "nbformat": 4,
 "nbformat_minor": 4
}
