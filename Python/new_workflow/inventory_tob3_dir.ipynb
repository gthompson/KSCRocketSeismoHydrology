{
 "cells": [
  {
   "cell_type": "code",
   "execution_count": null,
   "metadata": {},
   "outputs": [],
   "source": [
    "# List TOB3 files\n",
    "import os\n",
    "import glob\n",
    "import pandas as pd\n",
    "\n",
    "def process_tob3file(tob3file):\n",
    "    print(tob3file)\n",
    "    startdatetime=None\n",
    "    with open(tob3file, 'rb') as f:\n",
    "        firstline = f.readline().decode()\n",
    "    #print(firstline)\n",
    "    fields = firstline.split(',')\n",
    "    for field in fields:\n",
    "        if len(field)>5 and field[0:5]=='\\\"2022':\n",
    "            startdatetime = field[1:-2].replace('\\\"', '')\n",
    "    thisdict = {'file':os.path.basename(tob3file), 'datetime':startdatetime}\n",
    "    return thisdict\n",
    "\n",
    "\n",
    "lod = []\n",
    "tob3dir = '/home/thompsong/Dropbox/PROFESSIONAL/RESEARCH/3_Project_Documents/NASAprojects/201602_Rocket_Seismology/DATA/2022_DATA/WellData/Uploads'\n",
    "for uploaddir in sorted(glob.glob(os.path.join(tob3dir, '202*'))):\n",
    "    for dirorfile in sorted(glob.glob(os.path.join(uploaddir, '*'))):\n",
    "        if os.path.isdir(dirorfile):\n",
    "            sampratedir = dirorfile\n",
    "            for tob3file in sorted(glob.glob(os.path.join(sampratedir, '*.dat'))):\n",
    "                thisdict = process_tob3file(tob3file)\n",
    "                thisdict['uploaddir']=os.path.basename(uploaddir)\n",
    "                thisdict['sampratedir']=os.path.basename(sampratedir)\n",
    "                lod.append(thisdict)\n",
    "\n",
    "        elif dirorfile[-4:] == '.dat':\n",
    "            sampratedir = ''\n",
    "            tob3file = dirorfile\n",
    "            thisdict = process_tob3file(tob3file)\n",
    "            thisdict['uploaddir']=os.path.basename(uploaddir)\n",
    "            thisdict['sampratedir']=os.path.basename(sampratedir)\n",
    "            lod.append(thisdict)\n",
    "  \n",
    "df = pd.DataFrame(lod)\n",
    "df.sort_values(by='datetime')\n",
    "df.to_csv('list_of_tob3_files.csv', index=False)"
   ]
  }
 ],
 "metadata": {
  "language_info": {
   "name": "python"
  }
 },
 "nbformat": 4,
 "nbformat_minor": 2
}
