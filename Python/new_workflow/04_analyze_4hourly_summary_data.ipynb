{
 "cells": [
  {
   "cell_type": "markdown",
   "metadata": {},
   "source": [
    "# Analyze summary data, one line per file \n",
    "Here we use the 4-hourly summary data.\n",
    "* Analog barometers are temperature-corrected, so can be considered a direct measure of true barometric pressure. However, the still need correcting to a height of 0 feet.\n",
    "* Vibrating wire sensors need to be corrected with the corresponding temperature data, and height corrected to 0 feet.\n",
    "\n",
    "## 1. Set up and Load transducers metadata"
   ]
  },
  {
   "cell_type": "code",
   "execution_count": null,
   "metadata": {},
   "outputs": [],
   "source": [
    "import os\n",
    "import pandas as pd\n",
    "import numpy as np\n",
    "import matplotlib.pyplot as plt\n",
    "import header\n",
    "paths = header.setup_environment()\n",
    "import platform\n",
    "if platform.system()=='Darwin':\n",
    "    INPUTDIR = '/Users/thompsong/Dropbox/PROFESSIONAL/RESEARCH/3_Project_Documents/NASAprojects/201602_Rocket_Seismology/DATA/2022_DATA/WellData/MERGED'\n",
    "else:\n",
    "    INPUTDIR = os.path.join(paths['new_data'], '03_merge_inventories')\n",
    "import libWellData as LLE\n",
    "transducersDF = LLE.get_transducers_dataframe(paths)\n",
    "display(transducersDF)"
   ]
  },
  {
   "cell_type": "markdown",
   "metadata": {},
   "source": [
    "# 2. Subset the summary of all files dataframe by Baro, 20 Hz, and 100 Hz subdirectories\n",
    "Display the columns of each, after dropping empty columns.\n",
    "* Baro only contains data columns for AirPressureShallow and AirPressureDeep.\n",
    "* 20 Hz contains data columns for 1226423 and 2151692, plus corresponding temperature and stdev data\n",
    "* 100 Hz contains data columns for '1226421', '1226419', '1226420', '2149882','2151691', and '1226429', plus corresponding temperature and stdev data\n",
    "\n",
    "We plot:\n",
    "- the barometric data\n",
    "- the 100 Hz temperature data\n",
    "\n",
    "Since none of these needs to be corrected (although later we will adjust barometric data to a height of 0 feet)"
   ]
  },
  {
   "cell_type": "code",
   "execution_count": null,
   "metadata": {},
   "outputs": [],
   "source": [
    "# if we do not remerge, we get the 1hz data too\n",
    "all_dataframes = LLE.load_summary_csv(os.path.join(INPUTDIR, 'all2.csv'), split=True, remerge=False)\n",
    "print('**** RETURNED ******')\n",
    "for k in all_dataframes:\n",
    "    print(k, all_dataframes[k].columns)\n",
    "#display(all_dataframes['1hz'])"
   ]
  },
  {
   "cell_type": "code",
   "execution_count": null,
   "metadata": {},
   "outputs": [],
   "source": [
    "summarydf = LLE.load_summary_csv(os.path.join(INPUTDIR, 'all2.csv'), split=True, remerge=True)\n",
    "print(len(summarydf))\n",
    "display(summarydf.columns)"
   ]
  },
  {
   "cell_type": "markdown",
   "metadata": {},
   "source": [
    "## 3. Examine thermometer data \n",
    "For each vibrating wire pressure transducer, there is a corresponding thermal record which code above translated from Therm(1)..Therm(6) etc. into serialno+'_temp'"
   ]
  },
  {
   "cell_type": "code",
   "execution_count": null,
   "metadata": {},
   "outputs": [],
   "source": [
    "temperaturedf = LLE.load_summary_csv(os.path.join(INPUTDIR, 'all2.csv'), split=True, remerge=True, temperatureData=True)\n",
    "#temperaturedf = temperaturedf.reindex(sorted(temperaturedf.columns), axis=1) # for some reason sorting columns here or in qc_dataframe throws off the datetime plot\n",
    "temperaturedf['nearestminute'] = pd.to_datetime(temperaturedf['nearestminute'])\n",
    "\n",
    "fh, ax = plt.subplots(1,1)\n",
    "lod = []\n",
    "#thermalcolumns = [item for item in temperaturedf.columns if item.endswith('_temp')]\n",
    "thermalcolumns = temperaturedf.columns[temperaturedf.columns.str.endswith('_temp')]\n",
    "for tempcol in thermalcolumns:\n",
    "    col = tempcol.replace('_temp', '')\n",
    "    this_transducer = LLE.get_transducer_metadata(col, transducersDF)\n",
    "    depth = this_transducer['set_depth_ft']\n",
    "    lod.append({'depth':depth, 'mean':temperaturedf[tempcol].mean(), 'Tstd':temperaturedf[tempcol].std(), 'label':col})\n",
    "    this_df = temperaturedf.copy()[['nearestminute', tempcol]]\n",
    "    this_df.dropna(subset=[tempcol], inplace=True)\n",
    "    this_df.plot(ax=ax, x='nearestminute', y=tempcol, kind='line', xlabel='Date', ylabel='Temperature (C)', label=col, grid=True, xlim=[temperaturedf.iloc[0]['nearestminute'], temperaturedf.iloc[-1]['nearestminute']]).legend(bbox_to_anchor=(1.0,1.0), fontsize='small')\n",
    "dftemp = pd.DataFrame(lod)\n",
    "plt.show()\n",
    "\n",
    "fh, ax = plt.subplots(1,1)\n",
    "for thislabel in dftemp['label']:\n",
    "    thisdf = dftemp[dftemp['label']==thislabel]\n",
    "    thisdf.plot(ax=ax, x='depth', y='mean', style='o', ylabel='Mean Temperature (C)', label=thislabel, grid=True)    \n",
    "plt.show()\n",
    "\n",
    "fh, ax = plt.subplots(1,1)\n",
    "for thislabel in dftemp['label']:\n",
    "    thisdf = dftemp[dftemp['label']==thislabel]\n",
    "    thisdf.plot(ax=ax, x='depth', y='Tstd', style='o', ylabel='St. Dev. Temperature (C)', label=thislabel, grid=True)    \n",
    "plt.show()\n",
    "\n",
    "display(temperaturedf[thermalcolumns].mean())\n"
   ]
  },
  {
   "cell_type": "markdown",
   "metadata": {},
   "source": [
    "## 4. Plot raw barometric data\n"
   ]
  },
  {
   "cell_type": "code",
   "execution_count": null,
   "metadata": {},
   "outputs": [],
   "source": [
    "#all_dataframes['baro'].plot(x='datetime', y=['AirPressureShallow', 'AirPressureDeep'], kind='line')\n",
    "#all_dataframes['100hz'].plot(x='datetime', y=['1226420', '1226429'], kind='line')\n",
    "aircolumns = ['AirPressureShallow', 'AirPressureDeep', '1226420', '1226429']\n",
    "summarydf.plot(x='datetime', y=aircolumns, kind='line')\n",
    "print(len(summarydf))\n",
    "print(summarydf.iloc[-1]['datetime'])\n",
    "print(summarydf.iloc[0]['datetime'])\n",
    "display(summarydf[['datetime', 'basename']])\n"
   ]
  },
  {
   "cell_type": "markdown",
   "metadata": {},
   "source": [
    "## 5. Correct all barometers and vibrating wire sensor data\n",
    "- barometers are corrected for height only\n",
    "- vibrating wire sensors in air are corrected for height also\n",
    "- all vibrating wire sensors are corrected for sensitivity, and temperature\n",
    "- vibrating wire sensors in water are corrected for barometric pressure too, from vibrating wire sensor in air"
   ]
  },
  {
   "cell_type": "code",
   "execution_count": null,
   "metadata": {},
   "outputs": [],
   "source": [
    "'''\n",
    "dfbaro_elevationRemoved_PSI = LLE.correctBarometricData(all_dataframes['baro'], aircolumns[:2], transducersDF, temperatureCorrect=False, heightCorrect=True)  \n",
    "dfbaro_elevationRemoved_PSI.plot(x='datetime', y=['AirPressureShallow', 'AirPressureDeep'], kind='line')\n",
    "df100hz_elevationRemoved_aircolumnonly = LLE.correctBarometricData(df100hz_thermal, aircolumns[2:], transducersDF, temperatureCorrect=True, heightCorrect=True)\n",
    "df100hz_elevationRemoved_PSI = LLE.rawdf2psidf(df100hz_elevationRemoved_aircolumnonly, transducersDF, temperatureCorrect=True, airpressureColumn='1226429', depthCorrect=False)\n",
    "df100hz_elevationRemoved_PSI.plot(x='datetime', y=aircolumns[2:], kind='line')\n",
    "'''\n",
    "correcteddf = LLE.correctBarometricData(summarydf, aircolumns, transducersDF, temperatureCorrect=False, heightCorrect=True)  \n",
    "ax=correcteddf.plot(x='datetime', y=aircolumns, kind='line')\n",
    "airstatsdf = correcteddf[aircolumns].describe()\n",
    "#display(correcteddf[aircolumns].mean())\n",
    "#display(correcteddf[aircolumns[2:]])\n",
    "#correcteddf = LLE.correctBarometricData(correcteddf, aircolumns[2:], transducersDF, temperatureCorrect=False, heightCorrect=False)\n",
    "#correcteddf = LLE.rawdf2psidf(correcteddf, transducersDF, temperatureCorrect=True, airpressureColumn='1226429', depthCorrect=False)\n",
    "#correcteddf.plot(x='datetime', y=aircolumns[2:], kind='line')\n",
    "#display(correcteddf[aircolumns[2:]])\n",
    "\n",
    "dfnasa = pd.read_csv('Barometric Pressure.csv')\n",
    "dfnasa['datetime']=pd.to_datetime(dfnasa['datetime'])\n",
    "dfnasa = dfnasa.set_index('datetime')\n",
    "dfnasa = dfnasa.resample('4h').median()\n",
    "dfnasa.reset_index(inplace=True)\n",
    "dfnasa.plot(ax=ax, x='datetime', y='PSI', label='KSC weather tower', ylabel='Air Pressure (PSI)', xlabel='Date')\n",
    "plt.show()\n",
    "airstatsdf['KSC']=dfnasa['PSI'].describe()\n",
    "display(airstatsdf)\n",
    "\n",
    "# demeaned plot\n",
    "demeaneddf = pd.DataFrame()\n",
    "demeaneddf['datetime'] = correcteddf['datetime']\n",
    "for col in aircolumns:\n",
    "    demeaneddf[col] = correcteddf[col] - correcteddf[col].median()\n",
    "ax=demeaneddf.plot(x='datetime', y=aircolumns, kind='line')\n",
    "demeaneddf2 = pd.DataFrame()\n",
    "demeaneddf2['datetime'] = dfnasa['datetime']\n",
    "demeaneddf2['PSI'] = dfnasa['PSI'] - dfnasa['PSI'].median()\n",
    "demeaneddf2.plot(ax=ax,x='datetime', y='PSI', kind='line', label='KSC weather tower', ylabel='Air Pressure (PSI)', xlabel='Date')\n",
    "plt.show()\n",
    "\n",
    "watercolumns = ['1226419', '1226421', '2151691', '2149882', '1226423', '2151692']\n",
    "correcteddf = LLE.rawdf2psidf(correcteddf, transducersDF, temperatureCorrect=True, airpressureColumn='AirPressureShallow', depthCorrect=False)\n",
    "correcteddf.plot(x='datetime', y=watercolumns, ylabel='Water Pressure PSI', xlabel='Date')"
   ]
  },
  {
   "cell_type": "markdown",
   "metadata": {},
   "source": [
    "## 6. Merge the dataframes after rounding timestamps to nearest minute\n",
    "All time series from the all2.csv are 4-hourly since we have only 1 file per 4 hours. So we can round to the nearest minute to align times that are generally within 1-s\n",
    "\n",
    "Drop columns we do not need"
   ]
  },
  {
   "cell_type": "code",
   "execution_count": null,
   "metadata": {},
   "outputs": [],
   "source": [
    "LLE.round_datetime(df100hz_elevationRemoved_PSI, freq='min' )\n",
    "LLE.round_datetime(dfbaro_elevationRemoved_PSI, freq='min')\n",
    "dfmerged1 = LLE.merge_and_drop(df100hz_elevationRemoved_PSI, dfbaro_elevationRemoved_PSI, on='nearestminute')\n",
    "display(dfmerged1)\n",
    "dfmerged1.plot(x='nearestminute', y=aircolumns, kind='line')"
   ]
  },
  {
   "cell_type": "markdown",
   "metadata": {},
   "source": [
    "## 7. Correlate the air pressure columns - and compare their means too\n"
   ]
  },
  {
   "cell_type": "code",
   "execution_count": null,
   "metadata": {},
   "outputs": [],
   "source": [
    "print(len(correcteddf))\n",
    "dfmerged1 = correcteddf.copy()\n",
    "xcorrdf1, dcshiftdf1 = LLE.xcorr_columns(dfmerged1, aircolumns)\n",
    "dfshifted1, dcshifts1 = LLE.apply_dcshifts(dfmerged1, xcorrdf1, dcshiftdf1)\n",
    "dfshifted1.plot(x='nearestminute', y=aircolumns, kind='line', ylabel='PSI')"
   ]
  },
  {
   "cell_type": "markdown",
   "metadata": {},
   "source": [
    "## 8. Repeat the analysis, but don't make a temperature correction\n",
    "Improves correlation between 1226420 and analog barometers by 2%, but degrades 1226429 against same by almost 1%\n",
    "Improves correlation between 1226420 and 1226429 by 4% \n",
    "However, if we stick to using 1226429, this loss in performance is fine.\n",
    "Best shifts are now:\n",
    "* +14.423795 PSI to align 1226420 with AirPressureShallow\n",
    "* +14.556290 PSI to align 1226429 with AirPressureShallow"
   ]
  },
  {
   "cell_type": "code",
   "execution_count": null,
   "metadata": {},
   "outputs": [],
   "source": [
    "df100hz_elevationRemoved_aircolumnonly_noT = LLE.correctBarometricData(df100hz_thermal, ['1226420', '1226429'], transducersDF, temperatureCorrect=False, heightCorrect=True)\n",
    "\n",
    "LLE.round_datetime(df100hz_elevationRemoved_aircolumnonly_noT, freq='min' )\n",
    "dfmerged2 = LLE.merge_and_drop(df100hz_elevationRemoved_aircolumnonly_noT, dfbaro_elevationRemoved_PSI, on='nearestminute')\n",
    "display(dfmerged2)\n",
    "\n",
    "xcorrdf2, dcshiftdf2 = LLE.xcorr_columns(dfmerged2, aircolumns)\n",
    "dfshifted2, dcshifts2 = LLE.apply_dcshifts(dfmerged2, xcorrdf2, dcshiftdf2)\n",
    "dfshifted2.plot(x='nearestminute', y=aircolumns, kind='line', ylabel='PSI')\n",
    "\n",
    "dfxcorrdiff = xcorrdf2-xcorrdf1\n",
    "dfxcorrdiff_styled = dfxcorrdiff.style.set_caption('Difference in cross-correlation')\n",
    "dfshiftdiff = dcshiftdf2-dcshiftdf1\n",
    "dfshiftdiff_styled = dfshiftdiff.style.set_caption('Difference in DC levels')\n",
    "\n",
    "display(dfxcorrdiff_styled)\n",
    "display(dfshiftdiff_styled)"
   ]
  },
  {
   "cell_type": "markdown",
   "metadata": {},
   "source": [
    "## 9. Full workflow for 100 Hz data\n"
   ]
  },
  {
   "cell_type": "code",
   "execution_count": null,
   "metadata": {},
   "outputs": [],
   "source": [
    "# 10.1: Get raw 100 Hz data and remove anything with spikes\n",
    "\n",
    "# 10.2: Correct analog and digital air column transducers for calibration, elevation above water, and apply DC shift (no temperature correction)\n",
    "dfbaro_dcshifted = LLE.correctBarometricData(all_dataframes['baro'], aircolumns[:2], transducersDF, temperatureCorrect=False, heightCorrect=True, dcshifts=dcshifts2)\n",
    "df100hz_dcshifted = LLE.correctBarometricData(all_dataframes['100hz'], aircolumns[2:], transducersDF, temperatureCorrect=False, heightCorrect=True, dcshifts=dcshifts2)\n",
    "\n",
    "# 10.3: Merge and plot\n",
    "LLE.round_datetime(df100hz_dcshifted, freq='min')\n",
    "LLE.round_datetime(dfbaro_dcshifted, freq='min')\n",
    "dfmerged_dcshifted = LLE.merge_and_drop(dfbaro_dcshifted, df100hz_dcshifted, on='nearestminute', drop=False)\n",
    "display(dfmerged_dcshifted)\n",
    "dfmerged_dcshifted.plot(x='nearestminute', y=aircolumns, style='.', ylabel='PSI')\n",
    "\n",
    "# 10.4: Correct digital water column transducers for calibration and barometric pressure\n",
    "correctedAllSensorsPSI = LLE.rawdf2psidf(dfmerged_dcshifted, transducersDF, temperatureCorrect=False, airpressureColumn='1226429', depthCorrect=False)\n",
    "watercolumns = ['1226419', '1226421', '2151691', '2149882']\n",
    "display(correctedAllSensorsPSI[watercolumns])\n",
    "\n",
    "# 10.5: plot PSI\n",
    "correctedAllSensorsPSI.plot(x='nearestminute', y=aircolumns+watercolumns, style='.', ylabel='PSI')\n",
    "\n",
    "# 10.6: convert to water levels in meters\n",
    "correctedAllSensorsMeters = LLE.psi2meters(correctedAllSensorsPSI, watercolumns)\n",
    "correctedAllSensorsMeters.plot(x='nearestminute', y=watercolumns, style='.', ylabel='Meters')\n",
    "\n",
    "# 10.7: convert to water levels in meters relative to the set depth measured by Steve Krupa\n",
    "relativeAllSensorsMeters = LLE.relative_to_set_depth(correctedAllSensorsMeters, transducersDF, watercolumns)\n",
    "relativeAllSensorsMeters.plot(x='nearestminute', y=watercolumns, style='.', ylabel='Meters')\n",
    "\n",
    "# 10.8: estimate correct set depths from median of each, and shift by this amount\n",
    "estimatedAllSensorsMeters = LLE.estimate_sensor_depths(correctedAllSensorsMeters, watercolumns)\n",
    "estimatedAllSensorsMeters.plot(x='nearestminute', y=watercolumns, style='.', ylabel='Meters')   "
   ]
  },
  {
   "cell_type": "code",
   "execution_count": null,
   "metadata": {},
   "outputs": [],
   "source": []
  }
 ],
 "metadata": {
  "kernelspec": {
   "display_name": "passoft3",
   "language": "python",
   "name": "python3"
  },
  "language_info": {
   "codemirror_mode": {
    "name": "ipython",
    "version": 3
   },
   "file_extension": ".py",
   "mimetype": "text/x-python",
   "name": "python",
   "nbconvert_exporter": "python",
   "pygments_lexer": "ipython3",
   "version": "3.10.15"
  }
 },
 "nbformat": 4,
 "nbformat_minor": 4
}
