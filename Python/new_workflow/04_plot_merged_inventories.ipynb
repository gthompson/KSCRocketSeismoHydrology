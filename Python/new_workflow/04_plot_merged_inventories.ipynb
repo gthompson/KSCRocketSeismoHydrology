{
 "cells": [
  {
   "cell_type": "code",
   "execution_count": 1,
   "metadata": {},
   "outputs": [
    {
     "ename": "ModuleNotFoundError",
     "evalue": "No module named 'header'",
     "output_type": "error",
     "traceback": [
      "\u001b[0;31m---------------------------------------------------------------------------\u001b[0m",
      "\u001b[0;31mModuleNotFoundError\u001b[0m                       Traceback (most recent call last)",
      "Cell \u001b[0;32mIn[1], line 1\u001b[0m\n\u001b[0;32m----> 1\u001b[0m \u001b[38;5;28;01mimport\u001b[39;00m \u001b[38;5;21;01mheader\u001b[39;00m\n\u001b[1;32m      2\u001b[0m paths \u001b[38;5;241m=\u001b[39m header\u001b[38;5;241m.\u001b[39msetup_environment()\n\u001b[1;32m      3\u001b[0m \u001b[38;5;28;01mfor\u001b[39;00m k,v \u001b[38;5;129;01min\u001b[39;00m paths\u001b[38;5;241m.\u001b[39mitems():\n",
      "\u001b[0;31mModuleNotFoundError\u001b[0m: No module named 'header'"
     ]
    }
   ],
   "source": [
    "import header\n",
    "paths = header.setup_environment()\n",
    "for k,v in paths.items():\n",
    "    print(k, '->', v)\n",
    "\n",
    "import os\n",
    "import pandas as pd\n",
    "\n",
    "INPUTDIR = os.path.join(paths['new_data'], '03_merge_inventories')\n",
    "dfall = pd.read_csv(os.path.join(INPUTDIR, 'all2.csv'))\n",
    "\n",
    "for subdir in ['Baro', '20hz', '100hz']:\n",
    "    dfsub = dfall[dfall['subdir']==subdir]\n",
    "    print(dfsub)"
   ]
  }
 ],
 "metadata": {
  "kernelspec": {
   "display_name": "skience24_pyrocko",
   "language": "python",
   "name": "python3"
  },
  "language_info": {
   "codemirror_mode": {
    "name": "ipython",
    "version": 3
   },
   "file_extension": ".py",
   "mimetype": "text/x-python",
   "name": "python",
   "nbconvert_exporter": "python",
   "pygments_lexer": "ipython3",
   "version": "3.11.8"
  }
 },
 "nbformat": 4,
 "nbformat_minor": 2
}
