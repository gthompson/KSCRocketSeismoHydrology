{
 "cells": [
  {
   "cell_type": "markdown",
   "metadata": {},
   "source": [
    "# Compare barometric pressure recorded by analog barometers and vibrating wire sensors\n",
    "Here we use the 4-hourly summary data.\n",
    "* Analog barometers are temperature-corrected, so can be considered a direct measure of true barometric pressure. However, the still need correcting to a height of 0 feet.\n",
    "* Vibrating wire sensors need to be corrected with the corresponding temperature data, and height corrected to 0 feet.\n",
    "\n",
    "## 1. Set up and Load transducers metadata"
   ]
  },
  {
   "cell_type": "code",
   "execution_count": null,
   "metadata": {},
   "outputs": [],
   "source": [
    "import os\n",
    "import pandas as pd\n",
    "import numpy as np\n",
    "import matplotlib.pyplot as plt\n",
    "#import datetime as dt\n",
    "import header\n",
    "paths = header.setup_environment()\n",
    "import platform\n",
    "if platform.system()=='Darwin':\n",
    "    INPUTDIR = '/Users/thompsong/Dropbox/PROFESSIONAL/RESEARCH/3_Project_Documents/NASAprojects/201602_Rocket_Seismology/DATA/2022_DATA/WellData/MERGED'\n",
    "else:\n",
    "    INPUTDIR = os.path.join(paths['new_data'], '03_merge_inventories')\n",
    "import libWellData as LLE\n",
    "transducersDF = LLE.get_transducers_dataframe(paths)\n",
    "display(transducersDF)\n"
   ]
  },
  {
   "cell_type": "markdown",
   "metadata": {},
   "source": [
    "# 2. Subset the summary of all files dataframe by Baro, 20 Hz, and 100 Hz subdirectories\n",
    "Display the columns of each, after dropping empty columns.\n",
    "* Baro only contains data columns for AirPressureShallow and AirPressureDeep.\n",
    "* 20 Hz contains data columns for 1226423 and 2151692, plus corresponding temperature and stdev data\n",
    "* 100 Hz contains data columns for '1226421', '1226419', '1226420', '2149882','2151691', and '1226429', plus corresponding temperature and stdev data\n",
    "\n",
    "We plot:\n",
    "- the barometric data\n",
    "- the 100 Hz temperature data\n",
    "\n",
    "Since none of these needs to be corrected (although later we will adjust barometric data to a height of 0 feet)"
   ]
  },
  {
   "cell_type": "code",
   "execution_count": null,
   "metadata": {},
   "outputs": [],
   "source": [
    "# Load in the summary of all files - raw 4 hourly data \n",
    "dfall2 = pd.read_csv(os.path.join(INPUTDIR, 'all2.csv'))\n",
    "\n",
    "# Split in baro, 20Hz, 100Hz\n",
    "dfbaro = dfall2.copy()[dfall2['subdir']==\"Baro\"]\n",
    "dfbaro['datetime'] = pd.to_datetime(dfbaro['TIMESTAMP'])\n",
    "dfbaro.dropna(how='all', axis=1, inplace=True) \n",
    "dfbaro.drop(dfbaro.columns[dfbaro.columns.str.contains('unnamed',case = False)],axis = 1, inplace = True)\n",
    "\n",
    "df20hz = dfall2.copy()[dfall2['subdir']==\"20hz\"]\n",
    "df20hz['datetime'] = pd.to_datetime(df20hz['TIMESTAMP'])\n",
    "df20hz.dropna(how='all', axis=1, inplace=True) \n",
    "df20hz.drop(df20hz.columns[df20hz.columns.str.contains('unnamed',case = False)],axis = 1, inplace = True)\n",
    "\n",
    "df100hz = dfall2.copy()[dfall2['subdir']==\"100hz\"]\n",
    "df100hz['datetime'] = pd.to_datetime(df100hz['TIMESTAMP'])\n",
    "df100hz.dropna(how='all', axis=1, inplace=True) \n",
    "df100hz.drop(df100hz.columns[df100hz.columns.str.contains('unnamed',case = False)],axis = 1, inplace = True)\n",
    "\n",
    "\n"
   ]
  },
  {
   "cell_type": "markdown",
   "metadata": {},
   "source": [
    "## 3. Examine thermometer data \n",
    "For each vibrating wire pressure transducer, there is a corresponding thermal record\n",
    "Find these columns and rename them to match the transducer serial number + \"_temp\""
   ]
  },
  {
   "cell_type": "code",
   "execution_count": null,
   "metadata": {},
   "outputs": [],
   "source": [
    "# subset to all rows that have a 'Therm(6)' column\n",
    "df100hz_thermal = df100hz.copy().dropna(subset=['Therm(6)'])\n",
    "df20hz_thermal = df20hz.copy().dropna(subset=['Therm(2)'])\n",
    "#display(df100hz_thermal)\n",
    "count = 0 \n",
    "lod = []\n",
    "for col in df100hz_thermal:\n",
    "    if isinstance(col,str) and (col[0:2]=='12' or col[0:2]=='21'):\n",
    "        count += 1\n",
    "        oldcol = f'Therm({count})'\n",
    "        newcol = f'{col}_temp'\n",
    "        print(oldcol,'->',newcol)\n",
    "        df100hz_thermal.rename(columns={oldcol:newcol}, inplace=True)\n",
    "        this_transducer = LLE.get_transducer_metadata(col, transducersDF)\n",
    "        depth = this_transducer['set_depth_ft']\n",
    "        lod.append({'depth':depth, 'Tstd':df100hz_thermal[newcol].std()})\n",
    "thermal_columns = [item for item in df100hz_thermal.columns if item.endswith('_temp')]\n",
    "df100hz_thermal.plot(x='datetime', y=thermal_columns, kind='line', ylabel='Temperature (C)').legend(bbox_to_anchor=(1.0,1.0), fontsize='small')\n",
    "dftemp = pd.DataFrame(lod)\n",
    "dftemp.plot(x='depth', y='Tstd', style='o', ylabel='stdev(Temperature), C ')"
   ]
  },
  {
   "cell_type": "markdown",
   "metadata": {},
   "source": [
    "## 4. Plot raw barometric data\n"
   ]
  },
  {
   "cell_type": "code",
   "execution_count": null,
   "metadata": {},
   "outputs": [],
   "source": [
    "dfbaro.plot(x='datetime', y=['AirPressureShallow', 'AirPressureDeep'], kind='line')\n",
    "df100hz.plot(x='datetime', y=['1226420', '1226429'], kind='line')"
   ]
  },
  {
   "cell_type": "markdown",
   "metadata": {},
   "source": [
    "## 5. Correct all barometers and vibrating wire sensor data\n",
    "- barometers are corrected for height only\n",
    "- vibrating wire sensors in air are corrected for height also\n",
    "- all vibrating wire sensors are corrected for sensitivity, and temperature\n",
    "- vibrating wire sensors in water are corrected for barometric pressure too, from vibrating wire sensor in air"
   ]
  },
  {
   "cell_type": "code",
   "execution_count": null,
   "metadata": {},
   "outputs": [],
   "source": [
    "dfbaro_elevationRemoved_PSI = LLE.correctBarometricData(dfbaro, ['AirPressureShallow','AirPressureDeep'], transducersDF, temperatureCorrect=False, heightCorrect=True)  \n",
    "dfbaro_elevationRemoved_PSI.plot(x='datetime', y=['AirPressureShallow', 'AirPressureDeep'], kind='line')\n",
    "df100hz_elevationRemoved_aircolumnonly = LLE.correctBarometricData(df100hz_thermal, ['1226420', '1226429'], transducersDF, temperatureCorrect=True, heightCorrect=True)\n",
    "df100hz_elevationRemoved_PSI = LLE.rawdf2psidf(df100hz_elevationRemoved_aircolumnonly, transducersDF, temperatureCorrect=True, airpressureCorrect=True, depthCorrect=False)\n",
    "df100hz_elevationRemoved_PSI.plot(x='datetime', y=['1226420', '1226429'], kind='line')"
   ]
  },
  {
   "cell_type": "markdown",
   "metadata": {},
   "source": [
    "## 6. Merge the dataframes after rounding timestamps to nearest minute\n",
    "All time series from the all2.csv are 4-hourly since we have only 1 file per 4 hours. So we can round to the nearest minute to align times that are generally within 1-s\n",
    "\n",
    "Drop columns we do not need"
   ]
  },
  {
   "cell_type": "code",
   "execution_count": null,
   "metadata": {},
   "outputs": [],
   "source": [
    "aircolumns = ['AirPressureShallow', 'AirPressureDeep', '1226420', '1226429']\n",
    "LLE.round_datetime(df100hz_elevationRemoved_PSI, freq='min' )\n",
    "LLE.round_datetime(dfbaro_elevationRemoved_PSI, freq='min')\n",
    "dfmerged1 = LLE.merge_and_drop(df100hz_elevationRemoved_PSI, dfbaro_elevationRemoved_PSI, on='nearestminute')\n",
    "display(dfmerged1)\n",
    "dfmerged1.plot(x='nearestminute', y=aircolumns, kind='line')\n"
   ]
  },
  {
   "cell_type": "markdown",
   "metadata": {},
   "source": [
    "## 7. Correlate the air pressure columns - and compare their means too\n"
   ]
  },
  {
   "cell_type": "code",
   "execution_count": null,
   "metadata": {},
   "outputs": [],
   "source": [
    "xcorrdf1, dcshiftdf1 = LLE.xcorr_columns(dfmerged1, aircolumns)\n",
    "\n",
    "def apply_dcshifts(df, xcorrdf, dcshiftdf):\n",
    "    best_xcorr_indexes = xcorrdf.iloc[:2, 2:].stack().idxmax()\n",
    "    dcshifts = dcshiftdf[best_xcorr_indexes[0]].to_dict()\n",
    "    dfshifted = df.copy()\n",
    "    for k, v in dcshifts.items():\n",
    "        print(f'Shifting {k} by {-v} PSI')\n",
    "        dfshifted[k] -= v\n",
    "    return dfshifted, dcshifts\n",
    "\n",
    "dfshifted1, dcshifts1 = apply_dcshifts(dfmerged1, xcorrdf1, dcshiftdf1)\n",
    "dfshifted1.plot(x='nearestminute', y=aircolumns, kind='line', ylabel='PSI')\n",
    "\n"
   ]
  },
  {
   "cell_type": "markdown",
   "metadata": {},
   "source": [
    "## 8. Repeat the analysis, but don't make a temperature correction\n",
    "Improves correlation between 1226420 and analog barometers by 2%, but degrades 1226429 against same by almost 1%\n",
    "Improves correlation between 1226420 and 1226429 by 4% \n",
    "However, if we stick to using 1226429, this loss in performance is fine.\n",
    "Best shifts are now:\n",
    "* +14.42556 PSI to align 1226420 with AirPressureShallow\n",
    "* +14.55743 PSI to align 1226429 with AirPressureShallow"
   ]
  },
  {
   "cell_type": "code",
   "execution_count": null,
   "metadata": {},
   "outputs": [],
   "source": [
    "df100hz_elevationRemoved_aircolumnonly_noT = LLE.correctBarometricData(df100hz_thermal, ['1226420', '1226429'], transducersDF, temperatureCorrect=False, heightCorrect=True)\n",
    "#dfbaro_elevationRemoved_PSI = LLE.correctBarometricData(dfbaro, ['AirPressureShallow','AirPressureDeep'], transducersDF, temperatureCorrect=False, heightCorrect=True)  \n",
    "\n",
    "LLE.round_datetime(df100hz_elevationRemoved_aircolumnonly_noT, freq='min' )\n",
    "#LLE.round_datetime(dfbaro_elevationRemoved_PSI, freq='min')\n",
    "dfmerged2 = LLE.merge_and_drop(df100hz_elevationRemoved_aircolumnonly_noT, dfbaro_elevationRemoved_PSI, on='nearestminute')\n",
    "display(dfmerged2)\n",
    "#dfmerged2.plot(x='nearestminute', y=aircolumns, kind='line', ylabel='PSI')\n",
    "\n",
    "xcorrdf2, dcshiftdf2 = LLE.xcorr_columns(dfmerged2, aircolumns)\n",
    "dfshifted2, dcshifts2 = apply_dcshifts(dfmerged2, xcorrdf2, dcshiftdf2)\n",
    "dfshifted2.plot(x='nearestminute', y=aircolumns, kind='line', ylabel='PSI')\n",
    "\n",
    "dfxcorrdiff = xcorrdf2-xcorrdf1\n",
    "dfxcorrdiff_styled = dfxcorrdiff.style.set_caption('Difference in cross-correlation')\n",
    "dfshiftdiff = dcshiftdf2-dcshiftdf1\n",
    "dfshiftdiff_styled = dfshiftdiff.style.set_caption('Difference in DC levels')\n",
    "\n",
    "display(dfxcorrdiff_styled)\n",
    "display(dfshiftdiff_styled)\n"
   ]
  },
  {
   "cell_type": "markdown",
   "metadata": {},
   "source": [
    "## 9. Full workflow for 100 Hz data\n"
   ]
  },
  {
   "cell_type": "code",
   "execution_count": null,
   "metadata": {},
   "outputs": [],
   "source": [
    "# 10.1: Get raw 100 Hz data and remove anything with spikes\n",
    "df100hz_full = df100hz.copy()\n",
    "dfbaro_full = dfbaro.copy()\n",
    "\n",
    "# 10.2: Correct analog and digital air column transducers for calibration, elevation above water, and apply DC shift (no temperature correction)\n",
    "dfbaro_dcshifted = LLE.correctBarometricData(dfbaro_full, aircolumns[:2], transducersDF, temperatureCorrect=False, heightCorrect=True, dcshifts=dcshifts2)\n",
    "df100hz_dcshifted = LLE.correctBarometricData(df100hz_full, aircolumns[2:], transducersDF, temperatureCorrect=False, heightCorrect=True, dcshifts=dcshifts2)\n",
    "\n",
    "# 10.3: Merge and plot\n",
    "LLE.round_datetime(df100hz_dcshifted, freq='min')\n",
    "LLE.round_datetime(dfbaro_dcshifted, freq='min')\n",
    "dfmerged_dcshifted = LLE.merge_and_drop(dfbaro_dcshifted, df100hz_dcshifted, on='nearestminute', drop=False)\n",
    "display(dfmerged_dcshifted)\n",
    "dfmerged_dcshifted.plot(x='nearestminute', y=aircolumns, style='.', ylabel='PSI')\n",
    "\n",
    "# 10.4: Correct digital water column transducers for calibration and barometric pressure\n",
    "correctedAllSensorsPSI = LLE.rawdf2psidf(dfmerged_dcshifted, transducersDF, temperatureCorrect=False, airpressureCorrect=True, depthCorrect=False)\n",
    "watercolumns = ['1226419', '1226421', '2151691', '2149882']\n",
    "display(correctedAllSensorsPSI[watercolumns])\n",
    "\n",
    "# 10.5: plot PSI\n",
    "correctedAllSensorsPSI.plot(x='nearestminute', y=aircolumns+watercolumns, style='.', ylabel='PSI')\n",
    "\n",
    "# 10.6: convert to water levels in meters\n",
    "def psi2meters(df, watercolumns):\n",
    "    metersPerPSI = 0.703070\n",
    "    df2 = df.copy()\n",
    "    for col in df.columns:\n",
    "        if col in watercolumns:\n",
    "            df2[col] = -df2[col] * metersPerPSI\n",
    "    return df2\n",
    "\n",
    "correctedAllSensorsMeters = psi2meters(correctedAllSensors, watercolumns)\n",
    "correctedAllSensorsMeters.plot(x='nearestminute', y=watercolumns, style='.', ylabel='Meters')\n",
    "\n",
    "\n",
    "# 10.7: convert to water levels in meters relative to the set depth measured by Steve Krupa\n",
    "def relative_to_set_depth(df, transducersDF, watercolumns):\n",
    "    df2 = df.copy()\n",
    "    for col in df.columns:\n",
    "        if col in watercolumns:    \n",
    "            this_transducer = LLE.get_transducer_metadata(col, transducersDF)\n",
    "            print(this_transducer)\n",
    "            df2[col] = df2[col] - this_transducer['set_depth_ft']*0.3048\n",
    "    return df2\n",
    "\n",
    "relativeAllSensorsMeters = relative_to_set_depth(correctedAllSensorsMeters, transducersDF, watercolumns)\n",
    "relativeAllSensorsMeters.plot(x='nearestminute', y=watercolumns, style='.', ylabel='Meters')\n",
    "\n",
    "\n",
    "# 10.8: estimate correct set depths from median of each, and shift by this amount\n",
    "\n",
    "def estimate_sensor_depths(df, watercolumns):\n",
    "    medians = correctedAllSensorsMeters[watercolumns].median()\n",
    "    df2 = df.copy()\n",
    "    for k,v in medians.items():\n",
    "        print(f'the estimated set_depth for sensor {k} is {v:.2f} m or {v/0.3048:.2f} ft')\n",
    "        df2[k] =  df[k] - v\n",
    "    return df2\n",
    "\n",
    "estimatedAllSensorsMeters = estimate_sensor_depths(correctedAllSensorsMeters, watercolumns)\n",
    "estimatedAllSensorsMeters.plot(x='nearestminute', y=watercolumns, style='.', ylabel='Meters')   \n",
    "\n"
   ]
  }
 ],
 "metadata": {
  "kernelspec": {
   "display_name": "skience24_pyrocko",
   "language": "python",
   "name": "python3"
  },
  "language_info": {
   "codemirror_mode": {
    "name": "ipython",
    "version": 3
   },
   "file_extension": ".py",
   "mimetype": "text/x-python",
   "name": "python",
   "nbconvert_exporter": "python",
   "pygments_lexer": "ipython3",
   "version": "3.11.8"
  }
 },
 "nbformat": 4,
 "nbformat_minor": 2
}
