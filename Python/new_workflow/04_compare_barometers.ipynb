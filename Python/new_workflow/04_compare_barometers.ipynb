{
 "cells": [
  {
   "cell_type": "markdown",
   "metadata": {},
   "source": [
    "# Compare barometric pressure recorded by analog barometers and vibrating wire sensors\n",
    "Here we use the 4-hourly summary data.\n",
    "* Analog barometers are temperature-corrected, so can be considered a direct measure of true barometric pressure. However, the still need correcting to a height of 0 feet.\n",
    "* Vibrating wire sensors need to be corrected with the corresponding temperature data, and height corrected to 0 feet.\n",
    "\n",
    "## 1. Set up and Load transducers metadata"
   ]
  },
  {
   "cell_type": "code",
   "execution_count": null,
   "metadata": {},
   "outputs": [],
   "source": [
    "import os\n",
    "import pandas as pd\n",
    "import numpy as np\n",
    "import matplotlib.pyplot as plt\n",
    "#import datetime as dt\n",
    "import header\n",
    "paths = header.setup_environment()\n",
    "import platform\n",
    "if platform.system()=='Darwin':\n",
    "    INPUTDIR = '/Users/thompsong/Dropbox/PROFESSIONAL/RESEARCH/3_Project_Documents/NASAprojects/201602_Rocket_Seismology/DATA/2022_DATA/WellData/MERGED'\n",
    "else:\n",
    "    INPUTDIR = os.path.join(paths['new_data'], '03_merge_inventories')\n",
    "import libWellData as LLE\n",
    "transducersDF = LLE.get_transducers_dataframe(paths)\n",
    "display(transducersDF)\n"
   ]
  },
  {
   "cell_type": "markdown",
   "metadata": {},
   "source": [
    "# 2. Subset the summary of all files dataframe by Baro, 20 Hz, and 100 Hz subdirectories\n",
    "Display the columns of each, after dropping empty columns.\n",
    "* Baro only contains data columns for AirPressureShallow and AirPressureDeep.\n",
    "* 20 Hz contains data columns for 1226423 and 2151692, plus corresponding temperature and stdev data\n",
    "* 100 Hz contains data columns for '1226421', '1226419', '1226420', '2149882','2151691', and '1226429', plus corresponding temperature and stdev data\n",
    "\n",
    "We plot:\n",
    "- the barometric data\n",
    "- the 100 Hz temperature data\n",
    "\n",
    "Since none of these needs to be corrected (although later we will adjust barometric data to a height of 0 feet)"
   ]
  },
  {
   "cell_type": "code",
   "execution_count": 20,
   "metadata": {},
   "outputs": [],
   "source": [
    "# Load in the summary of all files - raw 4 hourly data \n",
    "dfall2 = pd.read_csv(os.path.join(INPUTDIR, 'all2.csv'))\n",
    "\n",
    "# Split in baro, 20Hz, 100Hz\n",
    "dfbaro = dfall2.copy()[dfall2['subdir']==\"Baro\"]\n",
    "dfbaro['datetime'] = pd.to_datetime(dfbaro['TIMESTAMP'])\n",
    "dfbaro.dropna(how='all', axis=1, inplace=True) \n",
    "dfbaro.drop(dfbaro.columns[dfbaro.columns.str.contains('unnamed',case = False)],axis = 1, inplace = True)\n",
    "\n",
    "df20hz = dfall2.copy()[dfall2['subdir']==\"20hz\"]\n",
    "df20hz['datetime'] = pd.to_datetime(df20hz['TIMESTAMP'])\n",
    "df20hz.dropna(how='all', axis=1, inplace=True) \n",
    "df20hz.drop(df20hz.columns[df20hz.columns.str.contains('unnamed',case = False)],axis = 1, inplace = True)\n",
    "\n",
    "df100hz = dfall2.copy()[dfall2['subdir']==\"100hz\"]\n",
    "df100hz['datetime'] = pd.to_datetime(df100hz['TIMESTAMP'])\n",
    "df100hz.dropna(how='all', axis=1, inplace=True) \n",
    "df100hz.drop(df100hz.columns[df100hz.columns.str.contains('unnamed',case = False)],axis = 1, inplace = True)\n",
    "\n",
    "\n"
   ]
  },
  {
   "cell_type": "markdown",
   "metadata": {},
   "source": [
    "## 3. Examine thermometer data \n",
    "For each vibrating wire pressure transducer, there is a corresponding thermal record\n",
    "Find these columns and rename them to match the transducer serial number + \"_temp\""
   ]
  },
  {
   "cell_type": "code",
   "execution_count": null,
   "metadata": {},
   "outputs": [],
   "source": [
    "# subset to all rows that have a 'Therm(6)' column\n",
    "df100hz_thermal = df100hz.copy().dropna(subset=['Therm(6)'])\n",
    "#display(df100hz_thermal)\n",
    "count = 0 \n",
    "lod = []\n",
    "for col in df100hz_thermal:\n",
    "    if isinstance(col,str) and (col[0:2]=='12' or col[0:2]=='21'):\n",
    "        count += 1\n",
    "        oldcol = f'Therm({count})'\n",
    "        newcol = f'{col}_temp'\n",
    "        print(oldcol,'->',newcol)\n",
    "        df100hz_thermal.rename(columns={oldcol:newcol}, inplace=True)\n",
    "        this_transducer = LLE.get_transducer_metadata(col, transducersDF)\n",
    "        depth = this_transducer['set_depth_ft']\n",
    "        lod.append({'depth':depth, 'Tstd':df100hz_thermal[newcol].std()})\n",
    "thermal_columns = [item for item in df100hz_thermal.columns if item.endswith('_temp')]\n",
    "df100hz_thermal.plot(x='datetime', y=thermal_columns, kind='line', ylabel='Temperature (C)').legend(bbox_to_anchor=(1.0,1.0), fontsize='small')\n",
    "dftemp = pd.DataFrame(lod)\n",
    "dftemp.plot(x='depth', y='Tstd', style='o', ylabel='stdev(Temperature), C ')"
   ]
  },
  {
   "cell_type": "markdown",
   "metadata": {},
   "source": [
    "## 4. Plot raw barometric data\n"
   ]
  },
  {
   "cell_type": "code",
   "execution_count": null,
   "metadata": {},
   "outputs": [],
   "source": [
    "dfbaro.plot(x='datetime', y=['AirPressureShallow', 'AirPressureDeep'], kind='line')\n",
    "df100hz.plot(x='datetime', y=['1226420', '1226429'], kind='line')"
   ]
  },
  {
   "cell_type": "markdown",
   "metadata": {},
   "source": [
    "## 5. Correct all barometers and vibrating wire sensor data\n",
    "- barometers are corrected for height only\n",
    "- vibrating wire sensors in air are corrected for height also\n",
    "- all vibrating wire sensors are corrected for sensitivity, and temperature\n",
    "- vibrating wire sensors in water are corrected for barometric pressure too, from vibrating wire sensor in air"
   ]
  },
  {
   "cell_type": "code",
   "execution_count": null,
   "metadata": {},
   "outputs": [],
   "source": [
    "dfbaro_elevationRemoved_PSI = LLE.correctBarometricData(dfbaro, ['AirPressureShallow','AirPressureDeep'], transducersDF, temperatureCorrect=False, heightCorrect=True)  \n",
    "dfbaro_elevationRemoved_PSI.plot(x='datetime', y=['AirPressureShallow', 'AirPressureDeep'], kind='line')\n",
    "df100hz_elevationRemoved_aircolumnonly = LLE.correctBarometricData(df100hz_thermal, ['1226420', '1226429'], transducersDF, temperatureCorrect=True, heightCorrect=True)\n",
    "df100hz_elevationRemoved_PSI = LLE.rawdf2psidf(df100hz_elevationRemoved_aircolumnonly, transducersDF, temperatureCorrect=True, airpressureCorrect=True, depthCorrect=False)\n",
    "df100hz_elevationRemoved_PSI.plot(x='datetime', y=['1226420', '1226429'], kind='line')"
   ]
  },
  {
   "cell_type": "markdown",
   "metadata": {},
   "source": [
    "## 6. Merge the dataframes after rounding timestamps to nearest hour \n",
    "All time series from the all2.csv are 4-hourly since we have only 1 file per 4 hours. So we can round to the nearest hour to align times that are generally within 1-s\n",
    "\n",
    "Drop columns we do not need"
   ]
  },
  {
   "cell_type": "code",
   "execution_count": null,
   "metadata": {},
   "outputs": [],
   "source": [
    "df100hz_elevationRemoved_PSI ['nearesthour'] = df100hz_elevationRemoved_PSI ['datetime'].dt.round('H')\n",
    "dfbaro_elevationRemoved_PSI['nearesthour'] = dfbaro_elevationRemoved_PSI['datetime'].dt.round('H')\n",
    "dfmerged = pd.merge(df100hz_elevationRemoved_PSI , dfbaro_elevationRemoved_PSI, on='nearesthour')\n",
    "dfmerged = dfmerged.loc[:, ~dfmerged.columns.str.endswith('_x')]\n",
    "dfmerged = dfmerged.loc[:, ~dfmerged.columns.str.endswith('_y')]\n",
    "dfmerged = dfmerged.loc[:, ~dfmerged.columns.str.startswith('DynStdDev')]\n",
    "display(dfmerged)\n"
   ]
  },
  {
   "cell_type": "markdown",
   "metadata": {},
   "source": [
    "## 7. Correlate the air pressure columns - and compare their means too\n"
   ]
  },
  {
   "cell_type": "code",
   "execution_count": null,
   "metadata": {},
   "outputs": [],
   "source": [
    "cols = ['AirPressureShallow', 'AirPressureDeep', '1226420', '1226429']\n",
    "xcorr = np.ndarray(shape=(4,4), dtype=float)\n",
    "dcshift = np.ndarray(shape=(4,4), dtype=float)\n",
    "for i1,col1 in enumerate(cols):\n",
    "    #display(col1, dfmerged[col1].describe())\n",
    "    for i2,col2 in enumerate(cols):\n",
    "        xcorr[i1,i2] = pd.Series.corr(dfmerged[col1], dfmerged[col2])\n",
    "        dcshift[i1,i2] = dfmerged[col1].mean()-dfmerged[col2].mean()\n",
    "display(xcorr)\n",
    "display(dcshift)"
   ]
  },
  {
   "cell_type": "markdown",
   "metadata": {},
   "source": [
    "## 8. Repeat the analysis, but don't make a temperature correction\n",
    "Improves correlation between 1226420 and analog barometers by 2%, but degrades 1226429 against same by almost 1%\n",
    "Improves correlation between 1226420 and 1226429 by 4% \n",
    "However, if we stick to using 1226429, this loss in performance is fine.\n",
    "Best shifts are now:\n",
    "* +14.42556 PSI to align 1226420 with AirPressureShallow\n",
    "* +14.55743 PSI to align 1226429 with AirPressureShallow"
   ]
  },
  {
   "cell_type": "code",
   "execution_count": null,
   "metadata": {},
   "outputs": [],
   "source": [
    "df100hz_elevationRemoved_aircolumnonly_noT = LLE.correctBarometricData(df100hz_thermal, ['1226420', '1226429'], transducersDF, temperatureCorrect=False, heightCorrect=True)\n",
    "df100hz_elevationRemoved_aircolumnonly_noT['nearesthour'] = df100hz_elevationRemoved_aircolumnonly_noT['datetime'].dt.round('H')\n",
    "dfmerged2 = pd.merge(df100hz_elevationRemoved_aircolumnonly_noT , dfbaro_elevationRemoved_PSI, on='nearesthour')\n",
    "dfmerged2 = dfmerged2.loc[:, ~dfmerged2.columns.str.endswith('_x')]\n",
    "dfmerged2 = dfmerged2.loc[:, ~dfmerged2.columns.str.endswith('_y')]\n",
    "dfmerged2 = dfmerged2.loc[:, ~dfmerged2.columns.str.startswith('DynStdDev')]\n",
    "cols = ['AirPressureShallow', 'AirPressureDeep', '1226420', '1226429']\n",
    "xcorr2 = np.ndarray(shape=(4,4), dtype=float)\n",
    "dcshift2 = np.ndarray(shape=(4,4), dtype=float)\n",
    "for i1,col1 in enumerate(cols):\n",
    "    #display(col1, dfmerged2[col1].describe())\n",
    "    for i2,col2 in enumerate(cols):\n",
    "        xcorr2[i1,i2] = pd.Series.corr(dfmerged2[col1], dfmerged2[col2])\n",
    "        dcshift2[i1,i2] = dfmerged2[col1].mean()-dfmerged2[col2].mean()\n",
    "display(xcorr2)\n",
    "display(dcshift2)\n",
    "display(xcorr2-xcorr)\n",
    "display(dcshift2-dcshift)"
   ]
  },
  {
   "cell_type": "code",
   "execution_count": null,
   "metadata": {},
   "outputs": [],
   "source": [
    "## 9. Compare with these shifts applied\n",
    "dfmerged3 = dfmerged2.copy()\n",
    "dfmerged3['1226420'] += 14.42556\n",
    "dfmerged3['1226429'] += 14.55743\n",
    "xcorr3 = np.ndarray(shape=(4,4), dtype=float)\n",
    "dcshift3 = np.ndarray(shape=(4,4), dtype=float)\n",
    "for i1,col1 in enumerate(cols):\n",
    "    #display(col1, dfmerged2[col1].describe())\n",
    "    for i2,col2 in enumerate(cols):\n",
    "        xcorr3[i1,i2] = pd.Series.corr(dfmerged3[col1], dfmerged3[col2])\n",
    "        dcshift3[i1,i2] = dfmerged3[col1].mean()-dfmerged3[col2].mean()\n",
    "display(xcorr3)\n",
    "display(dcshift3)\n",
    "display(xcorr3-xcorr2)\n",
    "display(dcshift3-dcshift2)"
   ]
  },
  {
   "cell_type": "markdown",
   "metadata": {},
   "source": [
    "## 10. Full workflow for 100 Hz data\n"
   ]
  },
  {
   "cell_type": "code",
   "execution_count": null,
   "metadata": {},
   "outputs": [],
   "source": [
    "# 10.1: Get raw 100 Hz data and remove anything with spikes\n",
    "display(df100hz)\n",
    "\n",
    "# 10.2: Correct digital air barometers only for height and calibration (digits->PSI) with a PSI shift applied\n",
    "df100hz_correctedAirSensors = LLE.correctBarometricData(df100hz, ['1226420', '1226429'], transducersDF, temperatureCorrect=True, heightCorrect=True, dcshifts=[14.42556,14.55743])\n",
    "display(df100hz_correctedAirSensors[['1226420', '1226429']])\n",
    "\n",
    "# 10.3: Correct digital water transducers for calibration and barometric pressure\n",
    "df100hz_correctedAllSensors = LLE.rawdf2psidf(df100hz_correctedAirSensors, transducersDF, temperatureCorrect=True, airpressureCorrect=True, depthCorrect=False)\n",
    "display(df100hz_correctedAllSensors[['1226420', '1226429', '1226419', '1226421', '2151691', '2149882']])\n",
    "\n",
    "# 10.4: all have spikes in. \n",
    "for col in df100hz_correctedAllSensors:\n",
    "    if isinstance(col,str) and (col[0:2]=='12' or col[0:2]=='21'):\n",
    "        m = df100hz_correctedAllSensors[col].median()\n",
    "        df100hz_correctedAllSensors[col] = df100hz_correctedAllSensors[col].clip(m-0.5,m+0.5)\n",
    "\n",
    "display(df100hz_correctedAllSensors[['1226420', '1226429', '1226419', '1226421', '2151691', '2149882']])\n",
    "\n",
    "# 10.5: plot\n",
    "df100hz_correctedAllSensors.plot(x='datetime', y=['1226420', '1226429'], style='.')\n",
    "df100hz_correctedAllSensors.plot(x='datetime', y=['1226419', '1226421', '2151691', '2149882'], style='.')"
   ]
  },
  {
   "cell_type": "markdown",
   "metadata": {},
   "source": [
    "## 11. To do\n",
    "In this notebook, we have examined temperature data and air pressure data, computed cross-correlations and DC shifts, and we explored how to correct data.\n",
    "\n",
    "What we need to do next is locate the other script I had written to load data between two datetimes, using all2.csv as a file lookup table. Then we need to add in these additional processing steps.\n",
    "\n",
    "We also need to add in steps to convert to Pascals and metres of water."
   ]
  }
 ],
 "metadata": {
  "kernelspec": {
   "display_name": "pyrocko2024",
   "language": "python",
   "name": "python3"
  },
  "language_info": {
   "codemirror_mode": {
    "name": "ipython",
    "version": 3
   },
   "file_extension": ".py",
   "mimetype": "text/x-python",
   "name": "python",
   "nbconvert_exporter": "python",
   "pygments_lexer": "ipython3",
   "version": "3.11.8"
  }
 },
 "nbformat": 4,
 "nbformat_minor": 2
}
