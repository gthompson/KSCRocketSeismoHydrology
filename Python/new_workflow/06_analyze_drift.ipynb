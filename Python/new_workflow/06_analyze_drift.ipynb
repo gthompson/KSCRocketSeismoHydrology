{
 "cells": [
  {
   "cell_type": "code",
   "execution_count": null,
   "metadata": {},
   "outputs": [],
   "source": [
    "import os\n",
    "import pandas as pd\n",
    "import numpy as np\n",
    "import matplotlib.pyplot as plt\n",
    "import header\n",
    "paths = header.setup_environment()\n",
    "import platform\n",
    "if platform.system()=='Darwin':\n",
    "    INPUTDIR = '/Users/thompsong/Dropbox/PROFESSIONAL/RESEARCH/3_Project_Documents/NASAprojects/201602_Rocket_Seismology/DATA/2022_DATA/WellData/MERGED'\n",
    "else:\n",
    "    INPUTDIR = os.path.join(paths['new_data'], '03_merge_inventories')\n",
    "import libWellData as LLE\n",
    "transducersDF = LLE.get_transducers_dataframe(paths)\n",
    "display(transducersDF)\n"
   ]
  },
  {
   "cell_type": "code",
   "execution_count": null,
   "metadata": {},
   "outputs": [],
   "source": [
    "csvfile = 'dailyshifts.csv'\n",
    "aircolumns = ['AirPressureShallow', 'AirPressureDeep', '1226420', '1226429']\n",
    "watercolumns = ['1226419', '1226421', '2151691', '2149882', '1226423', '2151692']\n",
    "\n",
    "if os.path.isfile(csvfile):\n",
    "    dfshifts = pd.read_csv('dailyshifts.csv', index_col=None)\n",
    "    dfshifts['datetime'] = pd.to_datetime(dfshifts['datetime'])\n",
    "    dfshifts['1226420'] *= -1 + dfshifts['AirPressureShallow']\n",
    "    dfshifts['1226429'] *= -1 + dfshifts['AirPressureShallow']\n",
    "    dfshifts.plot(x='datetime', y=aircolumns[2:], ylabel='DC shift (PSI) to align with analog barometers')\n",
    "    dfshifts.plot(x='datetime', y=watercolumns, ylabel='estimated set depth (m)')\n",
    "\n",
    "print(f'Mean DC shift for digital barometers:')\n",
    "for db in aircolumns[2:]:\n",
    "    this_transducer = transducersDF[transducersDF['serial']==db]\n",
    "    print(f'{db}: calculated={dfshifts[db].mean():.5f} PSI, bp={this_transducer.iloc[0][\"bp\"]} PSI')\n",
    "\n",
    "print('\\nMeasured set depths:')\n",
    "for db in watercolumns:\n",
    "    this_transducer = transducersDF[transducersDF['serial']==db]\n",
    "    estimated = dfshifts[db].mean()/0.3048\n",
    "    measured = float(this_transducer[\"set_depth_ft\"])\n",
    "    print(f'{db}: measured={measured:9.5f}, estimated={estimated:9.5f} feet, difference={estimated-measured:9.5f} feet')\n"
   ]
  }
 ],
 "metadata": {
  "kernelspec": {
   "display_name": "pyrocko2024",
   "language": "python",
   "name": "python3"
  },
  "language_info": {
   "codemirror_mode": {
    "name": "ipython",
    "version": 3
   },
   "file_extension": ".py",
   "mimetype": "text/x-python",
   "name": "python",
   "nbconvert_exporter": "python",
   "pygments_lexer": "ipython3",
   "version": "3.11.8"
  }
 },
 "nbformat": 4,
 "nbformat_minor": 4
}
