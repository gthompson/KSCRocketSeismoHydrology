{
 "cells": [
  {
   "cell_type": "markdown",
   "metadata": {},
   "source": [
    "# Program Overview\n",
    "\n",
    "\n",
    "\n",
    "# Headers"
   ]
  },
  {
   "cell_type": "code",
   "execution_count": 1,
   "metadata": {},
   "outputs": [
    {
     "name": "stdout",
     "output_type": "stream",
     "text": [
      "Darwin\n",
      "HOME -> /Users/thompsong\n",
      "Developer -> /Users/thompsong/Developer\n",
      "repodir -> /Users/thompsong/Developer/KSCRocketSeismoHydrology/Python/new_workflow\n",
      "work -> /Users/thompsong/work\n",
      "local_outdir -> /Users/thompsong/work/PROJECTS/KSC_EROSION\n",
      "DROPBOX_TOP -> /Users/thompsong/Dropbox\n",
      "new_data -> /Users/thompsong/data/KSCwell\n",
      "DROPBOX_DATA_TOP -> /Users/thompsong/Dropbox/PROFESSIONAL/RESEARCH/3_Project_Documents/NASAprojects/201602_Rocket_Seismology/DATA/2022_DATA\n",
      "dropbox_outdir -> /Users/thompsong/Dropbox/PROFESSIONAL/RESEARCH/3_Project_Documents/NASAprojects/201602_Rocket_Seismology/DATA/2022_DATA/new_workflow\n",
      "WELLDATA_TOP -> /Users/thompsong/Dropbox/PROFESSIONAL/RESEARCH/3_Project_Documents/NASAprojects/201602_Rocket_Seismology/DATA/2022_DATA/WellData\n",
      "TOB3_DIR -> /Users/thompsong/Dropbox/PROFESSIONAL/RESEARCH/3_Project_Documents/NASAprojects/201602_Rocket_Seismology/DATA/2022_DATA/WellData/Uploads\n"
     ]
    }
   ],
   "source": [
    "import header\n",
    "paths = header.setup_environment()\n",
    "for k,v in paths.items():\n",
    "    print(k, '->', v)\n",
    "    "
   ]
  },
  {
   "cell_type": "code",
   "execution_count": null,
   "metadata": {},
   "outputs": [],
   "source": [
    "import os\n",
    "import obspy\n",
    "import glob\n",
    "import pandas as pd\n",
    "import sys\n",
    "sys.path.append('..')\n",
    "import libWellData as LLE\n",
    "print(os.getcwd())\n",
    "os.chdir('../..')\n",
    "transducersDF = LLE.get_transducers_dataframe(paths)\n",
    "os.chdir('/data/KSC/EROSION/obsolete/miniseed/good')\n",
    "print(transducersDF)"
   ]
  },
  {
   "cell_type": "markdown",
   "metadata": {},
   "source": [
    "# Functions"
   ]
  },
  {
   "cell_type": "code",
   "execution_count": null,
   "metadata": {},
   "outputs": [],
   "source": [
    "def Stream2csv(st, csvfile):\n",
    "    stime = min([tr.stats.starttime for tr in st])\n",
    "    etime = max([tr.stats.endtime for tr in st])\n",
    "    st.trim(starttime=stime, endtime=etime, pad=True, fill_value=0.0)\n",
    "    dt = st[0].times('utcdatetime')\n",
    "    df = pd.DataFrame()\n",
    "    df['TIMESTAMP'] = dt\n",
    "    for tr in st:\n",
    "        serialnum = tr.stats.station + tr.stats.location\n",
    "        df[serialnum] = tr.data\n",
    "    print(df.head())\n",
    "\n",
    "    LLE.uncalibrate_to_raw(transducersDF, df, csvfile)\n"
   ]
  },
  {
   "cell_type": "markdown",
   "metadata": {},
   "source": [
    "# Main program"
   ]
  },
  {
   "cell_type": "code",
   "execution_count": null,
   "metadata": {},
   "outputs": [],
   "source": [
    "allfiles = sorted(glob.glob('*.ms'))\n",
    "lod = []\n",
    "for msfile in allfiles:\n",
    "    parts = msfile.split('.')\n",
    "    network = parts[0]\n",
    "    station = parts[1] + parts[2]\n",
    "    channel = parts[3]\n",
    "    stime = obspy.UTCDateTime.strptime(parts[4], '%Y%m%d_%H%M%S').datetime\n",
    "    etime = obspy.UTCDateTime.strptime(parts[5], '%Y%m%d_%H%M%S').datetime\n",
    "    if channel[0]=='H':\n",
    "        fsamp=100\n",
    "    elif channel[0]=='B':\n",
    "        fsamp=20\n",
    "    elif channel[0]=='L':\n",
    "        fsamp=1\n",
    " \n",
    "    mydict = {'stime':stime, 'etime':etime, 'well':network, 'serialnum':station,'channel':channel,'msfile':msfile,'fsamp':fsamp}\n",
    "    lod.append(mydict)\n",
    "df = pd.DataFrame(lod)\n",
    "#print(df)\n",
    "df = df.sort_values(by=['stime'])\n",
    "#print(df.head())\n",
    "#dfg=df.groupby(['stime', 'fsamp'], as_index=False).size()\n",
    "dfg=df.groupby(['stime', 'fsamp'])\n",
    "for name,group in dfg:\n",
    "    outfile=f'../Stream_{name[0].strftime(\"%Y%m%d%H%M%S\")}_{name[1]}Hz.mseed'\n",
    "    stall = obspy.Stream()\n",
    "    print(name)\n",
    "    #print(group)\n",
    "    for i, row in group.iterrows():\n",
    "        #print(row)\n",
    "        st = obspy.read(row['msfile'])\n",
    "        st.merge()\n",
    "        for tr in st:\n",
    "            stall.append(tr)\n",
    "    stall.write(outfile,format='MSEED')\n",
    "    Stream2csv(stall, outfile.replace('.mseed','.csv'))\n"
   ]
  }
 ],
 "metadata": {
  "kernelspec": {
   "display_name": "Python 3 (ipykernel)",
   "language": "python",
   "name": "python3"
  },
  "language_info": {
   "codemirror_mode": {
    "name": "ipython",
    "version": 3
   },
   "file_extension": ".py",
   "mimetype": "text/x-python",
   "name": "python",
   "nbconvert_exporter": "python",
   "pygments_lexer": "ipython3",
   "version": "3.11.8"
  }
 },
 "nbformat": 4,
 "nbformat_minor": 4
}
