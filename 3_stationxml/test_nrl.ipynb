{
 "cells": [
  {
   "cell_type": "code",
   "execution_count": 3,
   "metadata": {},
   "outputs": [
    {
     "name": "stdout",
     "output_type": "stream",
     "text": [
      "{'HDF': <obspy.core.inventory.response.Response object at 0x70b315131000>, 'EHZ': <obspy.core.inventory.response.Response object at 0x70b315130f40>}\n",
      "HDF\n",
      "Channel Response\n",
      "\tFrom m/s () to Counts ()\n",
      "\tOverall Sensitivity: 55862.3 defined at 1.000 Hz\n",
      "\t1 stages:\n",
      "\t\tStage 1: PolesZerosResponseStage from m/s to Counts, gain: 56000\n",
      "EHZ\n",
      "Channel Response\n",
      "\tFrom m/s () to Counts ()\n",
      "\tOverall Sensitivity: 3.20215e+08 defined at 1.000 Hz\n",
      "\t1 stages:\n",
      "\t\tStage 1: PolesZerosResponseStage from m/s to Counts, gain: 3.9965e+08\n",
      "['Nanometrics', 'Centaur', '40 Vpp (1)', 'Off', 'Linear phase', '100']\n",
      "['JeffreyBJohnson', 'infraBSU', '0.000046 V/Pa']\n",
      "Warning: units changed from m/s to m/s because Obspy cannot work with Pa\n",
      "Inventory created at 2025-02-04T21:02:02.741308Z\n",
      "\tCreated by: ObsPy 1.4.1\n",
      "\t\t    https://www.obspy.org\n",
      "\tSending institution: USF_instrument_responses.py\n",
      "\tContains:\n",
      "\t\tNetworks (1):\n",
      "\t\t\tFL\n",
      "\t\tStations (1):\n",
      "\t\t\tFL.BCHH ()\n",
      "\t\tChannels (1):\n",
      "\t\t\tFL.BCHH.00.HDF\n"
     ]
    }
   ],
   "source": [
    "import os\n",
    "import glob\n",
    "import sys\n",
    "\n",
    "import obspy\n",
    "sys.path.append(os.path.join('/home/thompsong/Developer', 'SoufriereHillsVolcano', 'lib'))\n",
    "\n",
    "import USF_instrument_responses as USF\n",
    "\n",
    "net = 'FL'\n",
    "sta = 'BCHH'\n",
    "loc = '00'\n",
    "chans = ['HDF']\n",
    "\n",
    "inv = USF.get_rboom()\n",
    "#inv = USF.get_rs3d()\n",
    "print(inv)\n",
    "if isinstance(inv, dict):\n",
    "    for k,v in inv.items():\n",
    "        print(k)\n",
    "        print(v)\n",
    "\n",
    "#inv = USF.make_inv(net, sta, loc, chans, datalogger='Centaur', sensor='TCP', Vpp=40, fsamp=100, lat=0.0, lon=0.0, elev=0.0, depth=0.0, sitename='', ondate=obspy.UTCDateTime(1970,1,1), offdate=obspy.UTCDateTime(2025,12,31))\n",
    "\n",
    "#inv = USF.make_inv(net, sta, loc, chans, datalogger='Centaur', sensor='Chap', Vpp=40, fsamp=100, lat=0.0, lon=0.0, elev=0.0, depth=0.0, sitename='', ondate=obspy.UTCDateTime(1970,1,1), offdate=obspy.UTCDateTime(2025,12,31))\n",
    "inv = USF.make_inv(net, sta, loc, chans, datalogger='Centaur', sensor='infraBSU', Vpp=40, fsamp=100, \\\n",
    "                   lat=0.0, lon=0.0, elev=0.0, depth=0.0, sitename='', \\\n",
    "                    ondate=obspy.UTCDateTime(1970,1,1), offdate=obspy.UTCDateTime(2025,12,31), \\\n",
    "                        sensitivity=USF.countsPerPa40, units='m/s')\n",
    "\n",
    "print(inv)"
   ]
  },
  {
   "cell_type": "code",
   "execution_count": 2,
   "metadata": {},
   "outputs": [
    {
     "name": "stdout",
     "output_type": "stream",
     "text": [
      "Network FL \n",
      "\tStation Count: None/None (Selected/Total)\n",
      "\t-- - --\n",
      "\tAccess: UNKNOWN\n",
      "\tContains:\n",
      "\t\tStations (1):\n",
      "\t\t\tFL.BCHH ()\n",
      "\t\tChannels (1):\n",
      "\t\t\tFL.BCHH.00.HDF Station BCHH ()\n",
      "\tStation Code: BCHH\n",
      "\tChannel Count: None/None (Selected/Total)\n",
      "\t1970-01-01T00:00:00.000000Z - 2025-12-31T00:00:00.000000Z\n",
      "\tAccess: None \n",
      "\tLatitude: 0.0000, Longitude: 0.0000, Elevation: 0.0 m\n",
      "\tAvailable Channels:\n",
      "\t  .00.HDF       100.0 Hz  1970-01-01 to 2025-12-31\n",
      " Channel 'HDF', Location '00' \n",
      "\tTime range: 1970-01-01T00:00:00.000000Z - 2025-12-31T00:00:00.000000Z\n",
      "\tLatitude: 0.0000, Longitude: 0.0000, Elevation: 0.0 m, Local Depth: 0.0 m\n",
      "\tSampling Rate: 100.00 Hz\n",
      "\tResponse information available\n",
      "Channel Response\n",
      "\tFrom m/s () to Counts ()\n",
      "\tOverall Sensitivity: 18.3788 defined at 1.000 Hz\n",
      "\t1 stages:\n",
      "\t\tStage 1: PolesZerosResponseStage from m/s to Counts, gain: 18.4\n"
     ]
    }
   ],
   "source": [
    "\n",
    "# Loop over the stations and channels to access the sensitivity\n",
    "for network in inv:\n",
    "    for station in network:\n",
    "        for channel in station:\n",
    "            print(network, station, channel)\n",
    "            if channel.response is not None:\n",
    "                # The response object holds the overall sensitivity\n",
    "                #sensitivity = channel.response.sensitivity\n",
    "                print(channel.response)\n",
    "                #print(f\"Sensitivity for channel {channel.code} at station {station.code}: {sensitivity}\")"
   ]
  }
 ],
 "metadata": {
  "kernelspec": {
   "display_name": "passoft3",
   "language": "python",
   "name": "python3"
  },
  "language_info": {
   "codemirror_mode": {
    "name": "ipython",
    "version": 3
   },
   "file_extension": ".py",
   "mimetype": "text/x-python",
   "name": "python",
   "nbconvert_exporter": "python",
   "pygments_lexer": "ipython3",
   "version": "3.10.15"
  }
 },
 "nbformat": 4,
 "nbformat_minor": 2
}
