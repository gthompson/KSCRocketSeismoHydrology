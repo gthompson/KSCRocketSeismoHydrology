{
 "cells": [
  {
   "cell_type": "code",
   "execution_count": null,
   "id": "eca896ac",
   "metadata": {},
   "outputs": [],
   "source": [
    "#!/usr/bin/env python\n",
    "# coding: utf-8\n",
    "\n",
    "# # Convert Phase 2 well data (July 21st 2022 onwards)\n",
    "# Locher Environmental recorded data from multiple transducers in two adjacent wells near SLC 39A at Kennedy Space Center (KSC), between March and November, 2022. This was part of a seismo-acoustic erosion pilot experiment. During phase 2 of the experiment, which began on July 21st, 2022, vibrating wire sensors were used and found to give more accurate water levels. These data were captured on Campbell Scientific dataloggers and recorded in TOB3 binary file format. The purpose of this notebook is to:\n",
    "# - read these files\n",
    "# - apply calibration equations\n",
    "# - write to 'corrected CSV' files\n",
    "# Calibration constants are defined in the transducers dataframe, based on copied from the file \"A Pz Linear Gage Calc_NASA Sensors.xls\". \n",
    "# Other metadata included in this dataframe come from sections 6 and 7 in the file \"2022-12-03_ Field Sheet for Deployment of Groundwater Equipment at NASA_Part_II.pdf\".\n",
    "# \n",
    "# Note on *TIME ZONES*: \n",
    "# - Local time is used in Campbell Scientific binary files, and files converted to Pickle.\n",
    "# - UTC is used in MiniSEED files (next program in workflow), to match seismo-acoustic data.\n",
    "\n",
    "# raw data on April 1, 2022 from 16:10 to 16:40 UTC. Launch from SLC40 at 16:24 UTC, watched from Titusville\n",
    "import header\n",
    "paths = header.setup_environment()\n",
    "#import os\n",
    "#import sys\n",
    "#import glob\n",
    "#import numpy as np\n",
    "#import pandas as pd\n",
    "#from obspy.core import read, Stream, UTCDateTime\n",
    "#import FDSNtools\n",
    "#import wrappers\n",
    "#import SDS\n",
    "import libWellData as LLE\n",
    "\n",
    "# Generate complete list of LoggerNet CSV files (converted from TOB3 files)\n",
    "csvfiles = LLE.list_loggernet_csv_files(paths['TOB3_DIR'])\n",
    "print(len(csvfiles))\n",
    "LLE.correct_csvfiles(csvfiles, paths, converted_by_LoggerNet=True, MAXFILES=None, keep_existing=True)"
   ]
  }
 ],
 "metadata": {
  "kernelspec": {
   "display_name": "Python 3 (ipykernel)",
   "language": "python",
   "name": "python3"
  },
  "language_info": {
   "codemirror_mode": {
    "name": "ipython",
    "version": 3
   },
   "file_extension": ".py",
   "mimetype": "text/x-python",
   "name": "python",
   "nbconvert_exporter": "python",
   "pygments_lexer": "ipython3",
   "version": "3.10.13"
  }
 },
 "nbformat": 4,
 "nbformat_minor": 5
}
