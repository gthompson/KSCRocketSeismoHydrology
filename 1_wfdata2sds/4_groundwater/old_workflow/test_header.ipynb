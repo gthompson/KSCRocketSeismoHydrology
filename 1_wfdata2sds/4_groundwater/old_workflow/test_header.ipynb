{
 "cells": [
  {
   "cell_type": "code",
   "execution_count": 6,
   "metadata": {},
   "outputs": [
    {
     "name": "stdout",
     "output_type": "stream",
     "text": [
      "Index(['Unnamed: 0', 'serial', 'Fs', 'sensor', 'shielding', 'range_kPa_low',\n",
      "       'range_kPa_high', 'media', 'type', 'model', 'set_depth_ft', 'id',\n",
      "       'dig0', 'gf', 'tt', 'tt0', 'tf', 'bp', 'bp0'],\n",
      "      dtype='object')\n",
      "                id  set_depth_ft   Fs      type              serial shielding\n",
      "0  6S.02374.88.HDH          4.46  100  pressure  AirPressureShallow      none\n",
      "1  6S.12264.20.HDD          3.81  100     level             1226420      none\n",
      "2  6S.12264.23.BDD         -5.83   20     level             1226423      foam\n",
      "3  6S.12264.19.HDD         -6.71  100     level             1226419      foam\n",
      "4  6S.12264.21.HDD         -7.71  100     level             1226421      none\n",
      "5  6I.0XXXX.XX.HDH          4.46  100  pressure     AirPressureDeep      none\n",
      "6  6I.12264.29.HDD          3.71  100     level             1226429      none\n",
      "7  6I.21516.92.BDD         -9.29   20     level             2151692      foam\n",
      "8  6I.21516.91.HDD        -18.46  100     level             2151691      foam\n",
      "9  6I.21498.82.HDD        -19.29  100     level             2149882      none\n"
     ]
    }
   ],
   "source": [
    "%run header.ipynb\n",
    "transducersDF = LLE.get_transducers_dataframe(paths)\n",
    "print(transducersDF.columns)\n",
    "print(transducersDF[['id', 'set_depth_ft', 'Fs', 'type', 'serial', 'shielding']])"
   ]
  },
  {
   "cell_type": "code",
   "execution_count": null,
   "metadata": {},
   "outputs": [],
   "source": [
    "from IPython.display import clear_output\n",
    "sdsobj = SDS.SDSobj(paths['SDS_TOP'], sds_type='D', format='MSEED')\n",
    "print(sdsobj)\n",
    "\n"
   ]
  }
 ],
 "metadata": {
  "kernelspec": {
   "display_name": "Python 3 (ipykernel)",
   "language": "python",
   "name": "python3"
  },
  "language_info": {
   "codemirror_mode": {
    "name": "ipython",
    "version": 3
   },
   "file_extension": ".py",
   "mimetype": "text/x-python",
   "name": "python",
   "nbconvert_exporter": "python",
   "pygments_lexer": "ipython3",
   "version": "3.10.12"
  }
 },
 "nbformat": 4,
 "nbformat_minor": 4
}
