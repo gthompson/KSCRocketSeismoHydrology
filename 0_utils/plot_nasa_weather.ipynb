{
 "cells": [
  {
   "cell_type": "code",
   "execution_count": null,
   "metadata": {},
   "outputs": [],
   "source": [
    "import pandas as pd\n",
    "import matplotlib.pyplot as plt\n",
    "\n",
    "df = pd.read_csv('/data/KSC/EROSION/weather-tower-export-20251707031705.csv')\n",
    "display(df)\n"
   ]
  },
  {
   "cell_type": "code",
   "execution_count": null,
   "metadata": {},
   "outputs": [],
   "source": [
    "df = df[df['Height']<20]\n",
    "display(df)\n",
    "grouped = df.groupby(['SiteName', 'Height'])\n",
    "MIN_ROWS = 100\n",
    "for metric in ['Barometric Pressure', 'Temperature', 'Relative Humidity', 'Average Wind Speed', 'Average Wind Direction']:\n",
    "    for name, group in grouped:\n",
    "\n",
    "        this_site = group.dropna(axis='columns', how='all')\n",
    "        if metric in this_site.columns:\n",
    "\n",
    "            if len(this_site[metric].dropna())>MIN_ROWS:\n",
    "                this_site['datetime'] = pd.to_datetime(df['Date'].astype(str) + ' ' + df['Time'].astype(str))\n",
    "                print(name)\n",
    "\n",
    "                if metric == 'Barometric Pressure':\n",
    "                    this_site = this_site[this_site[metric] >  800]\n",
    "                    this_site['PSI'] = this_site['Barometric Pressure']*0.0145038\n",
    "                    this_site.plot(x='datetime', y='PSI', title=f'Site: {name}', ylabel='Barometric Pressure (PSI)', legend=False)\n",
    "                else:\n",
    "                    this_site.plot(x='datetime', y=metric, title=f'Site: {name}', ylabel=metric, legend=False)\n",
    "                #display(this_site)\n",
    "\n",
    "                plt.show()\n",
    "\n",
    "\n"
   ]
  },
  {
   "cell_type": "code",
   "execution_count": null,
   "metadata": {},
   "outputs": [],
   "source": [
    "df['datetime'] = pd.to_datetime(df['Date'].astype(str) + ' ' + df['Time'].astype(str))\n",
    "\n",
    "ranges = ((850,1035), (1,111), (10,99), (0,180), (0, 360))\n",
    "for i,metric in enumerate(['Barometric Pressure', 'Temperature', 'Relative Humidity', 'Average Wind Speed', 'Average Wind Direction']):\n",
    "    dfmetric = df.dropna(subset=[metric])\n",
    "    dfmetric = dfmetric.loc[dfmetric[metric] >  ranges[i][0]]\n",
    "    dfmetric = dfmetric.loc[dfmetric[metric] <  ranges[i][1]]    \n",
    "    dfmetric = dfmetric.groupby('datetime')[metric].mean().reset_index()\n",
    "    print(type(dfmetric))\n",
    "    print(dfmetric)\n",
    "    dfmetric.set_index('datetime', inplace=True)\n",
    "    dfmetric = dfmetric.resample('15min').mean()\n",
    "    if len(dfmetric)>MIN_ROWS:\n",
    "        if metric == 'Barometric Pressure':\n",
    "            dfmetric['PSI'] = dfmetric[metric]*0.0145038\n",
    "            dfmetric.plot(y='PSI', ylabel=f'{metric} (PSI)', legend=False, style='-')\n",
    "        else:\n",
    "            dfmetric.plot(y=metric, ylabel=metric, legend=False, style='-')\n",
    "        plt.show()\n",
    "        dfmetric.reset_index(inplace=True)\n",
    "        display(dfmetric)\n",
    "        dfmetric.to_csv(f'{metric.strip()}.csv')"
   ]
  }
 ],
 "metadata": {
  "kernelspec": {
   "display_name": "passoft3",
   "language": "python",
   "name": "python3"
  },
  "language_info": {
   "codemirror_mode": {
    "name": "ipython",
    "version": 3
   },
   "file_extension": ".py",
   "mimetype": "text/x-python",
   "name": "python",
   "nbconvert_exporter": "python",
   "pygments_lexer": "ipython3",
   "version": "3.10.15"
  }
 },
 "nbformat": 4,
 "nbformat_minor": 2
}
