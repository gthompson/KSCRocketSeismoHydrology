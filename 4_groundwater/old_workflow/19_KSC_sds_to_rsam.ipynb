{
 "cells": [
  {
   "cell_type": "code",
   "execution_count": null,
   "id": "209bd015-aa2a-4f28-9fc0-3e424df29b3f",
   "metadata": {},
   "outputs": [],
   "source": [
    "import header\n",
    "paths = header.setup_environment()\n",
    "import os\n",
    "#import sys\n",
    "import glob\n",
    "#import numpy as np\n",
    "#import pandas as pd\n",
    "from obspy.core import UTCDateTime\n",
    "#import FDSNtools\n",
    "import wrappers\n",
    "import SDS\n",
    "#import libWellData as LLE\n",
    "\n",
    "\n",
    "\n",
    "preconfigured = True\n",
    "\n",
    "if not preconfigured:\n",
    "    # PRE-CONFIGURE CONFIGURATION\n",
    "    startt = UTCDateTime(2022,7,21)\n",
    "    endt = UTCDateTime(2022,12,3)\n",
    "\n",
    "    # get list of trace_ids from SDS archive\n",
    "    thisSDSobj = SDS.SDSobj(paths['SDS_TOP'])\n",
    "    trace_ids = thisSDSobj._sds_get_nonempty_traceids(startt, endt)\n",
    "    print(trace_ids)\n",
    "\n",
    "    for id in trace_ids:\n",
    "        keepRaw = True\n",
    "        sgram = False\n",
    "        if id[-1] in 'ZNEF123456789' and id[-2] in 'HD':\n",
    "            keepRaw = False\n",
    "            if id[-1] in 'ZF4' and id[-2] in 'HD':\n",
    "                sgram = True\n",
    "        print(f\"{id},{subnet},None,{keepRaw},{sgram}\")\n",
    "        # These have been appended to trace_ids config csv\n",
    "\n",
    "\n",
    "# how do we create an inventory for the KSC network?\n",
    "    # there is nothing to do for the well stations. they are already calibrated.\n",
    "    # for the seismic and infrasound stations, we need appropriate responses for:\n",
    "        # Trillum + Centaur\n",
    "        # InfraBSU + Centaur\n",
    "        # Chaparral M25 + Centaur\n",
    "    # The shortcut is if there is no inv, just to supply calibration information from counts 2 Pa, and counts to m/s.\n",
    "        # calibration info should be in the trace_ids config. would be 1 for well channels.\n",
    "        # no Drs calculation if no inv.\n",
    "        # but can still do CSAM and spectrograms.\n",
    "        # could potentially do reduced velocity, and reduced pressure.\n",
    "        # maybe the whole idea of reduced displacement is silly, and just do reduced velocity instead? or as well as?\n",
    "    # TO DO:\n",
    "        # add other parameters, from metrics.py. but get traditional iceweb stuff working first.\n",
    "\n",
    "# RUN JOB\n",
    "wrappers.run_iceweb_job(subnet, configdir=paths['CONFIGDIR'], configname=subnet )"
   ]
  }
 ],
 "metadata": {
  "kernelspec": {
   "display_name": "Python 3 (ipykernel)",
   "language": "python",
   "name": "python3"
  },
  "language_info": {
   "codemirror_mode": {
    "name": "ipython",
    "version": 3
   },
   "file_extension": ".py",
   "mimetype": "text/x-python",
   "name": "python",
   "nbconvert_exporter": "python",
   "pygments_lexer": "ipython3",
   "version": "3.10.13"
  }
 },
 "nbformat": 4,
 "nbformat_minor": 5
}
