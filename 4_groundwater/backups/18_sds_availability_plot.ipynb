{
 "cells": [
  {
   "cell_type": "markdown",
   "id": "77080b11",
   "metadata": {},
   "source": [
    "# Plot SDS data availability"
   ]
  },
  {
   "cell_type": "code",
   "execution_count": null,
   "id": "084c5bb7-c74e-4e88-920e-3429fe5390ff",
   "metadata": {
    "scrolled": true
   },
   "outputs": [],
   "source": [
    "import header\n",
    "paths = header.setup_environment()\n",
    "import os\n",
    "#import sys\n",
    "#import glob\n",
    "#import numpy as np\n",
    "import pandas as pd\n",
    "#from obspy.core import read, Stream, UTCDateTime\n",
    "#import FDSNtools\n",
    "#import wrappers\n",
    "import SDS\n",
    "import libWellData as LLE\n",
    "\n",
    "transducersDF = LLE.get_transducers_dataframe(paths)\n",
    "#print(transducersDF)\n",
    "\n",
    "# Availability by day\n",
    "startdate = UTCDateTime(2022,7,21)\n",
    "enddate = UTCDateTime(2022,12,3)\n",
    "sdsobj = SDS.SDSobj(paths['SDS_TOP'])\n",
    "trace_ids = None\n",
    "\n",
    "availabilityCSV = os.path.join(paths['outdir'], 'availability4.csv')\n",
    "if os.path.isfile(availabilityCSV):\n",
    "    availabilityDF = pd.read_csv(availabilityCSV, index_col=None)\n",
    "    trace_ids = availabilityDF.columns[1:]\n",
    "else:\n",
    "    availabilityDF, trace_ids = sdsobj._sds_percent_available_per_day(startdate, enddate, trace_ids=trace_ids, speed=3)\n",
    "    availabilityDF.to_csv(availabilityCSV, index=False)\n",
    "\n",
    "#cols = availabilityDF.columns\n",
    "#print(cols)\n",
    "#print(trace_ids)\n",
    "\n",
    "def reorder_trace_ids(df, ordered_ids):\n",
    "    print(ordered_ids)\n",
    "    df = df.loc[:, ~df.columns.str.contains('^Unnamed')]\n",
    "    d = df['date']\n",
    "    df = df.loc[:, ordered_ids]\n",
    "    df.insert(0, 'date', d)\n",
    "    #df['date'] = d\n",
    "    return df\n",
    "\n",
    "well_availabilityDF = availabilityDF.copy()\n",
    "for id in trace_ids:\n",
    "    if id[0:2] =='FL':\n",
    "        well_availabilityDF.drop(labels=id, axis=1, inplace=True)\n",
    "well_availabilityDF = reorder_trace_ids(well_availabilityDF, transducersDF['id'].to_list())\n",
    "#print(well_availabilityDF.columns)\n",
    "sdsobj.plot_availability(well_availabilityDF, outfile=os.path.join(paths['outdir'],'well_availability4.png'), labels=transducersDF.serial.to_list())\n",
    "\n",
    "SA_availabilityDF = availabilityDF.copy()\n",
    "for id in trace_ids:\n",
    "    if id[0:2] !='FL':\n",
    "        SA_availabilityDF.drop(labels=id, axis=1, inplace=True)\n",
    "#print(SA_availabilityDF)\n",
    "sdsobj.plot_availability(SA_availabilityDF, outfile=os.path.join(paths['outdir'],'SA_availability4.png'))"
   ]
  },
  {
   "cell_type": "markdown",
   "id": "bc3e0510",
   "metadata": {},
   "source": [
    "Falcon 9 Block 5 | Starlink Group 4-35\t\tSeptember 24, 2022\tSLC-40\t23:32:10 UTC"
   ]
  }
 ],
 "metadata": {
  "kernelspec": {
   "display_name": "Python 3 (ipykernel)",
   "language": "python",
   "name": "python3"
  },
  "language_info": {
   "codemirror_mode": {
    "name": "ipython",
    "version": 3
   },
   "file_extension": ".py",
   "mimetype": "text/x-python",
   "name": "python",
   "nbconvert_exporter": "python",
   "pygments_lexer": "ipython3",
   "version": "3.10.13"
  }
 },
 "nbformat": 4,
 "nbformat_minor": 5
}
