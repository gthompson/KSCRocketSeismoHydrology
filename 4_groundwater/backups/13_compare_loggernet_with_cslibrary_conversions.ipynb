{
 "cells": [
  {
   "cell_type": "code",
   "execution_count": 11,
   "id": "cfb23e85",
   "metadata": {},
   "outputs": [
    {
     "name": "stdout",
     "output_type": "stream",
     "text": [
      "D:\\Dropbox\\DATA\\KSC\\KSC_Well_Seismoacoustic_Data\\WellData\\Uploads\\20221202\\100hz\\100hz_Sensors_100Hz1.dat exists\n",
      "D:\\Dropbox\\DATA\\KSC\\KSC_Well_Seismoacoustic_Data\\WellData\\Uploads\\20221202\\100hz\\100hz_Sensors_100Hz1.csv exists\n",
      "D:\\Dropbox\\DATA\\KSC\\KSC_Well_Seismoacoustic_Data\\WellData\\Converted\\100hz_Sensors_100Hz1.pkl exists\n"
     ]
    }
   ],
   "source": [
    "# import os\n",
    "tob3file = 'D:\\Dropbox\\DATA\\KSC\\KSC_Well_Seismoacoustic_Data\\WellData\\\\Uploads\\\\20221202\\\\100hz\\\\100hz_Sensors_100Hz1.dat'\n",
    "csvfile = tob3file.replace('.dat','.csv')\n",
    "pklfile = os.path.join('D:\\Dropbox\\DATA\\KSC\\KSC_Well_Seismoacoustic_Data\\WellData\\Converted', os.path.basename(tob3file).replace('.dat','.pkl'))\n",
    "for file in (tob3file, csvfile, pklfile):\n",
    "    if os.path.isfile(file):\n",
    "        print('%s exists' % file)\n",
    "    else:\n",
    "        print('%s does not exist' % file)"
   ]
  },
  {
   "cell_type": "code",
   "execution_count": 30,
   "id": "7d868527",
   "metadata": {},
   "outputs": [
    {
     "name": "stderr",
     "output_type": "stream",
     "text": [
      "C:\\Users\\thompsong\\Anaconda3\\lib\\site-packages\\IPython\\core\\interactiveshell.py:3444: DtypeWarning: Columns (1,2,3,4,5,6,7) have mixed types.Specify dtype option on import or set low_memory=False.\n",
      "  exec(code_obj, self.user_global_ns, self.user_ns)\n"
     ]
    },
    {
     "name": "stdout",
     "output_type": "stream",
     "text": [
      "0                     TIMESTAMP   RECORD   1226421   1226419   1226420  \\\n",
      "3       2022-11-04 12:00:00.010   690003  9165.072  9484.593  9705.107   \n",
      "4       2022-11-04 12:00:00.020   690004  9164.785  9484.676  9705.748   \n",
      "5       2022-11-04 12:00:00.030   690005  9165.193  9484.927  9705.301   \n",
      "6       2022-11-04 12:00:00.040   690006  9165.072  9485.219  9705.704   \n",
      "7       2022-11-04 12:00:00.050   690007  9164.985  9484.935  9705.896   \n",
      "...                         ...      ...       ...       ...       ...   \n",
      "1439998 2022-11-04 15:59:59.960  2129998  9170.681  9490.947  9707.750   \n",
      "1439999 2022-11-04 15:59:59.970  2129999  9170.363  9490.942  9707.429   \n",
      "1440000 2022-11-04 15:59:59.980  2130000  9170.893  9491.055  9707.063   \n",
      "1440001 2022-11-04 15:59:59.990  2130001  9170.498  9490.857  9706.993   \n",
      "1440002 2022-11-04 16:00:00.000  2130002  9170.743  9491.287  9707.424   \n",
      "\n",
      "0         2149882   2151691   1226429  \n",
      "3        8625.732  8354.872  9773.464  \n",
      "4        8625.199  8355.347  9772.990  \n",
      "5        8625.762  8355.442  9772.401  \n",
      "6        8625.603  8354.970  9773.266  \n",
      "7        8625.397  8355.319  9773.768  \n",
      "...           ...       ...       ...  \n",
      "1439998  8630.514  8360.199  9778.570  \n",
      "1439999  8630.668  8359.708  9778.231  \n",
      "1440000  8630.345  8360.503  9778.266  \n",
      "1440001  8630.082  8360.283  9777.922  \n",
      "1440002  8630.512  8360.021  9777.389  \n",
      "\n",
      "[1440000 rows x 8 columns]\n"
     ]
    }
   ],
   "source": [
    "import pandas as pd\n",
    "dfcsv = pd.read_csv(csvfile, \n",
    "            #dtype={'TOA5':str, '100hz_Sensors':int, 'CR6':float, '18084':float, \n",
    "            #        'CR6.Std.12.01':float, 'CPU:VWIRE305_100hz.CR6':float, '20853':float, 'DynamicFreq':float}, \n",
    "            parse_dates=['TOA5'])\n",
    "dfcsv.columns = dfcsv.iloc[0]\n",
    "dfcsv=dfcsv.iloc[3:]\n",
    "dfcsv['TIMESTAMP'] = pd.to_datetime(dfcsv.TIMESTAMP)\n",
    "dfcsv['RECORD'] = dfcsv['RECORD'].astype(int)\n",
    "#print(dfcsv.columns[2:])\n",
    "for col in dfcsv.columns[2:]:\n",
    "    dfcsv[col] = dfcsv[col].astype(float)\n",
    "print(dfcsv)"
   ]
  },
  {
   "cell_type": "code",
   "execution_count": 36,
   "id": "8bd7b058",
   "metadata": {},
   "outputs": [
    {
     "name": "stdout",
     "output_type": "stream",
     "text": [
      "Cannot read pkl file. Probably written with a different version of pandas and cannot serialize\n"
     ]
    }
   ],
   "source": [
    "try:\n",
    "    dfpkl = pd.read_pickle(pklfile)\n",
    "    print(dfpkl)\n",
    "except:\n",
    "    print('Cannot read pkl file. Probably written with a different version of pandas and cannot serialize')"
   ]
  },
  {
   "cell_type": "code",
   "execution_count": 31,
   "id": "4b806234",
   "metadata": {},
   "outputs": [
    {
     "name": "stdout",
     "output_type": "stream",
     "text": [
      "- Applying calibration equations\n",
      "0                     TIMESTAMP   RECORD   1226421   1226419    1226420  \\\n",
      "3       2022-11-04 12:00:00.010   690003  3.975500  3.365941  14.591738   \n",
      "4       2022-11-04 12:00:00.020   690004  3.977430  3.365407  14.587599   \n",
      "5       2022-11-04 12:00:00.030   690005  3.974687  3.363790  14.590486   \n",
      "6       2022-11-04 12:00:00.040   690006  3.975500  3.361909  14.587883   \n",
      "7       2022-11-04 12:00:00.050   690007  3.976085  3.363739  14.586643   \n",
      "...                         ...      ...       ...       ...        ...   \n",
      "1439998 2022-11-04 15:59:59.960  2129998  3.937785  3.325015  14.574670   \n",
      "1439999 2022-11-04 15:59:59.970  2129999  3.939924  3.325048  14.576743   \n",
      "1440000 2022-11-04 15:59:59.980  2130000  3.936360  3.324320  14.579107   \n",
      "1440001 2022-11-04 15:59:59.990  2130001  3.939016  3.325595  14.579559   \n",
      "1440002 2022-11-04 16:00:00.000  2130002  3.937369  3.322825  14.576775   \n",
      "\n",
      "0         2149882   2151691    1226429  \n",
      "3        8.736669  8.704056  14.466189  \n",
      "4        8.740973  8.700188  14.469236  \n",
      "5        8.736427  8.699415  14.473022  \n",
      "6        8.737711  8.703258  14.467462  \n",
      "7        8.739374  8.700416  14.464235  \n",
      "...           ...       ...        ...  \n",
      "1439998  8.698054  8.660683  14.433368  \n",
      "1439999  8.696811  8.664681  14.435547  \n",
      "1440000  8.699419  8.658208  14.435322  \n",
      "1440001  8.701543  8.659999  14.437533  \n",
      "1440002  8.698071  8.662132  14.440960  \n",
      "\n",
      "[1440000 rows x 8 columns]\n"
     ]
    }
   ],
   "source": [
    "import numpy as np\n",
    "print('- Applying calibration equations')\n",
    "WELLDATA_TOP = 'D:\\Dropbox\\DATA\\KSC\\KSC_Well_Seismoacoustic_Data\\WellData'\n",
    "transducersDF = pd.read_csv(os.path.join(WELLDATA_TOP, 'transducer_metadata.csv'))\n",
    "def compute_psi(dig, d):\n",
    "    psi = np.zeros((len(dig),1))\n",
    "    #if np.isnan(d['dig0']):\n",
    "    #    return psi\n",
    "    for i in range(len(dig)):\n",
    "        psi[i] = ((dig[i]-d['dig0']) * d['gf'] + (d['tt']-d['tt0'])*d['tf']+(d['bp0']-d['bp']))\n",
    "        \n",
    "    #print(level)\n",
    "    return psi\n",
    "df2 = dfcsv.copy()\n",
    "for col in df2.columns:\n",
    "    #print(col)\n",
    "    if col[0:2]=='12' or col[0:2]=='21':\n",
    "        this_transducer = transducersDF[(transducersDF['serial']) == col]\n",
    "        #print(this_transducer)\n",
    "        if len(this_transducer.index)==1:\n",
    "            this_transducer = this_transducer.iloc[0].to_dict()\n",
    "            #print(this_transducer)\n",
    "            df2[col] = compute_psi(df2[col].to_numpy(), this_transducer)\n",
    "print(df2)"
   ]
  },
  {
   "cell_type": "code",
   "execution_count": 32,
   "id": "09f39fe7",
   "metadata": {},
   "outputs": [],
   "source": [
    "# check start & end time \n",
    "passed = True\n",
    "starttime=df2.iloc[0]['TIMESTAMP']\n",
    "endtime=df2.iloc[-1]['TIMESTAMP']\n",
    "timediff = (endtime - starttime)\n",
    "nrows=len(df2.index)\n",
    "numValidTimes = nrows\n",
    "secs = np.array([x.timestamp() for x in df2['TIMESTAMP']])\n",
    "secsdiff = secs[1:-1]-secs[0:-2]\n",
    "sample_interval = np.nanmedian(secsdiff)\n",
    "#sample_interval2 = timediff.seconds/(nrows-1)  \n",
    "if timediff.seconds>4*60*60: # files should be no more than 4 hours\n",
    "    print('Problem likely with start time. Filter out all data more than 4 hours before end')\n",
    "    df2 = df2[df2['TIMESTAMP']>endtime-pd.to_timedelta(4, unit='h')]\n",
    "    df2 = df2[df2['TIMESTAMP']<=endtime]\n",
    "    numValidTimes = len(df2.index)\n",
    "    passed = False"
   ]
  },
  {
   "cell_type": "code",
   "execution_count": 35,
   "id": "a56d2f94",
   "metadata": {},
   "outputs": [
    {
     "name": "stdout",
     "output_type": "stream",
     "text": [
      "{'filename': '100hz_Sensors_100Hz1.pkl', 'starttime': Timestamp('2022-11-04 12:00:00.010000'), 'endtime': Timestamp('2022-11-04 16:00:00'), 'hours': 4.0, 'npts': 1440000, 'nRECS': 1440000, 'Fs': 100.00009536752259, 'numValidTimes': 1440000, 'passed': True}\n"
     ]
    }
   ],
   "source": [
    "thisd = {}\n",
    "thisd['filename']=os.path.basename(csvfile)\n",
    "thisd['starttime']=starttime\n",
    "thisd['endtime']=endtime\n",
    "thisd['hours']=np.round(timediff.seconds/3600.0,2)\n",
    "thisd['npts']=nrows\n",
    "thisd['nRECS']=df2.iloc[-1]['RECORD']-df2.iloc[0]['RECORD']+1\n",
    "thisd['Fs']=1/sample_interval\n",
    "if thisd['nRECS']!=nrows:\n",
    "    passed=False\n",
    "if numValidTimes<nrows:\n",
    "    passed=False\n",
    "thisd['numValidTimes']=numValidTimes\n",
    "#thisd['numTimeSkips']=len(gpsdf.index)/3\n",
    "thisd['passed']=passed\n",
    "print(thisd)"
   ]
  },
  {
   "cell_type": "code",
   "execution_count": null,
   "id": "b03883c1",
   "metadata": {},
   "outputs": [],
   "source": []
  }
 ],
 "metadata": {
  "kernelspec": {
   "display_name": "Python 3 (ipykernel)",
   "language": "python",
   "name": "python3"
  },
  "language_info": {
   "codemirror_mode": {
    "name": "ipython",
    "version": 3
   },
   "file_extension": ".py",
   "mimetype": "text/x-python",
   "name": "python",
   "nbconvert_exporter": "python",
   "pygments_lexer": "ipython3",
   "version": "3.9.7"
  }
 },
 "nbformat": 4,
 "nbformat_minor": 5
}
