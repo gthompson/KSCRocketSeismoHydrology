{
 "cells": [
  {
   "cell_type": "code",
   "execution_count": 1,
   "id": "27e11669-0ae6-40db-81da-7fc3718c3fdf",
   "metadata": {},
   "outputs": [
    {
     "name": "stdout",
     "output_type": "stream",
     "text": [
      "2023-01-01 00:00:00\n"
     ]
    }
   ],
   "source": [
    "%run header.ipynb\n",
    "#print(paths)\n",
    "\n",
    "os.chdir(paths['outdir'])\n",
    "import datetime\n",
    "from IPython.display import clear_output\n",
    "#ANTELOPE = os.getenv('ANTELOPE')\n",
    "years = ['2022']\n",
    "#nets = ['6I', '6S', 'FL', 'AM', 'XA']\n",
    "nets = ['FL', 'AM', 'XA']\n",
    "YYYY = '2022'\n",
    "\n",
    "def dbcreate(dbname, schema=\"css3.0\", dbpath=None):\n",
    "    nl = '\\n'\n",
    "    dbpaths = \"\"\n",
    "    if dbpath:\n",
    "        for p in dbpath:\n",
    "            d = os.path.dirname(p)\n",
    "            b = os.path.basename(p)\n",
    "            if dbpaths:\n",
    "                connector = \":\"\n",
    "            else:\n",
    "                connector = \"\"\n",
    "            #thisdbpath = \"%s/{%s}\" % (d,b) # no, in same directory as descriptor, so just need dbbasename\n",
    "            thisdbpath = \"{\"+b+\"}\"\n",
    "            dbpaths += connector + thisdbpath\n",
    "    contents = \"#\\n\"\n",
    "    contents += f\"schema {schema}{nl}\"\n",
    "    if dbpath:\n",
    "        contents += f\"dbpath {dbpaths}{nl}\"\n",
    "    print(contents)\n",
    "    with open(dbname, \"w\") as f:\n",
    "        f.write(contents)\n",
    "\n",
    "for YYYY in years:\n",
    "    for jday in range(83,367): # 83 is first day of seismic data in SDS \n",
    "        start_date = datetime.datetime.strptime(f\"{YYYY}{jday:03d}\", '%Y%j')\n",
    "        print(start_date, end=\"\\n\")\n",
    "        ymd = start_date.strftime(\"%Y%m%d\")\n",
    "        #startepoch = int(start_date.strftime(\"%s\"))\n",
    "        #endepoch = starttime + 86400\n",
    "        dbwellday = f\"db/dbgood{ymd}\"\n",
    "        dbseismo = f\"db/dbseismo{ymd}\"\n",
    "        for net in nets:\n",
    "            mseed_dirs = sorted(glob.glob(os.path.join('SDS', YYYY, net, '???*', '[HD]??.D')))\n",
    "            for mseed_dir in mseed_dirs:\n",
    "                mseedfiles = sorted(glob.glob(os.path.join(mseed_dir, '%s.*.D.*.%03d' % (net, jday) ) ))    \n",
    "                if len(mseedfiles)>0:\n",
    "                    mseedfilesstr = \" \".join(mseedfiles)\n",
    "                    #os.system(\"bash ~/Developer/miniseed2days_wrapper.sh %s miniseed/good\" % start_date)\n",
    "                    os.system(f\"miniseed2db {mseedfilesstr} {dbseismo} \")\n",
    "        # create descriptor\n",
    "        if os.path.isfile(dbwellday+'.wfdisc') or os.path.isfile(dbseismo+'.wfdisc'):\n",
    "            dball = f\"db/dberosion{ymd}\"\n",
    "            dbcreate(dball, schema='css3.0', dbpath=[dbwellday, dbseismo])\n",
    "        clear_output(wait=True)"
   ]
  },
  {
   "cell_type": "code",
   "execution_count": null,
   "id": "90f13c5e-5980-44cd-af01-ae753fc40b87",
   "metadata": {},
   "outputs": [],
   "source": [
    "dbcreate('db/dbtest20220725', dbpath=['db/dbgood20220725', 'db/dbseismo20220725'])"
   ]
  }
 ],
 "metadata": {
  "kernelspec": {
   "display_name": "Python 3 (ipykernel)",
   "language": "python",
   "name": "python3"
  },
  "language_info": {
   "codemirror_mode": {
    "name": "ipython",
    "version": 3
   },
   "file_extension": ".py",
   "mimetype": "text/x-python",
   "name": "python",
   "nbconvert_exporter": "python",
   "pygments_lexer": "ipython3",
   "version": "3.10.13"
  }
 },
 "nbformat": 4,
 "nbformat_minor": 5
}
